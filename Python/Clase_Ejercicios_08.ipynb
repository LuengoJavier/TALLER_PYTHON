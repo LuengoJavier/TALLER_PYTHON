{
 "cells": [
  {
   "cell_type": "markdown",
   "metadata": {},
   "source": [
    "# Herramientas básicas para el Análisis de Datos (IMA602)\n",
    "\n",
    "# Ejercicios sobre programación funcional\n"
   ]
  },
  {
   "cell_type": "markdown",
   "metadata": {},
   "source": [
    "## Ejercicio 1:  \n",
    "\n",
    "Escribe una función *junta_numeros()*  que recibe un *range* de enteros y entrega un string formado por todos los numeros separados por coma.\n",
    "\n",
    "Ejemplos:  \n",
    "junta_numeros(range(5)) --> '0,1,2,3,4'\n"
   ]
  },
  {
   "cell_type": "code",
   "execution_count": 9,
   "metadata": {},
   "outputs": [
    {
     "data": {
      "text/plain": [
       "'0,1,2,3,4,5,6,7,8,9,10,11,12,13,14,15,16,17,18,19,20,21,22,23,24,25,26,27,28,29,30,31,32,33,34,35,36,37,38,39,40,41,42,43,44,45,46,47,48,49,50,51,52,53,54,55,56,57,58,59,60,61,62,63,64,65,66,67,68,69,70,71,72,73,74,75,76,77,78,79,80,81,82,83,84,85,86,87,88,89,90,91,92,93,94,95,96,97,98,99'"
      ]
     },
     "execution_count": 9,
     "metadata": {},
     "output_type": "execute_result"
    }
   ],
   "source": [
    "# Solución\n",
    "def junta_numeros(rango):\n",
    "    return ','.join(str(numero) for numero in rango)\n",
    "junta_numeros(range(100))"
   ]
  },
  {
   "cell_type": "markdown",
   "metadata": {},
   "source": [
    "## Ejercicio 2:  \n",
    "\n",
    "Escriba una función que *suma_numeros()* que recibe un string y devuelve la suma de todas las palabras del string que pueden ser consideradas como enteros.\n",
    "\n",
    "Ejemplos:  \n",
    "suma_numeros('10 ry 20 tt10 30 56rr 40') --> 100\n"
   ]
  },
  {
   "cell_type": "code",
   "execution_count": 10,
   "metadata": {},
   "outputs": [
    {
     "name": "stdout",
     "output_type": "stream",
     "text": [
      "True\n",
      "False\n"
     ]
    }
   ],
   "source": [
    "#Hint \n",
    "print('48'.isdigit())\n",
    "print('48ab'.isdigit())"
   ]
  },
  {
   "cell_type": "code",
   "execution_count": 16,
   "metadata": {},
   "outputs": [
    {
     "data": {
      "text/plain": [
       "100"
      ]
     },
     "execution_count": 16,
     "metadata": {},
     "output_type": "execute_result"
    }
   ],
   "source": [
    "# Solución\n",
    "def suma_numeros(string):\n",
    "    return sum(int(numero) for numero in string.split() if numero.isdigit())\n",
    "suma_numeros('10 ry 20 tt10 30 56rr 40')"
   ]
  },
  {
   "cell_type": "markdown",
   "metadata": {},
   "source": [
    "## Ejercicio 3: \n",
    "\n",
    "Crear una función  *flatten()* recibe una lista de listas y devuelve una única lista postponiendo los elementos.  La función debe crear la lista por compresión.\n",
    "\n",
    "Ejemplos:  \n",
    "\n",
    "flatten([[1,2],[3,4]]) --> [1,2,3,4]"
   ]
  },
  {
   "cell_type": "code",
   "execution_count": 24,
   "metadata": {},
   "outputs": [
    {
     "data": {
      "text/plain": [
       "[1, 2, 3, 4, 5, 6]"
      ]
     },
     "execution_count": 24,
     "metadata": {},
     "output_type": "execute_result"
    }
   ],
   "source": [
    "# Solución\n",
    "def flatten(listas):\n",
    "    return [resultado for sublista in listas for resultado in sublista]\n",
    "flatten([[1,2],[3,4],[5,6]])"
   ]
  },
  {
   "cell_type": "markdown",
   "metadata": {},
   "source": [
    "## Ejercicio 4:  \n",
    "\n",
    "Escribir una función que recibe el nombre de un archivo como argumento y devuelve un string con el contenido del archivo traducido a inglés secreto (Clase de ejercicios 2 - Ejercicio 1). No es necesario que la función considere de manera especial las puntuaciones, las palabras capitalizadas o los cambios de linea. \n"
   ]
  },
  {
   "cell_type": "code",
   "execution_count": 2,
   "metadata": {},
   "outputs": [
    {
     "data": {
      "text/plain": [
       "'lmuerzoAay uymay oncurrido,cay ocallay algoway uidoso,ray errazatay agradableway oncay olcitosay (ay echada).tay latosPay uymay abrosos.say enúMay algoway estringido.ray oNay abíhay almonSay !!ay oNay abíahay orvinaCay !!ay aLay omidacay esway abrosa,say ienbay reparadapay yay ienbay resentada.pay reciosPay azonables,ray escuentoday eday 0%3ay alway agarpay oncay /CTay mericanAay xpressEay eday lEay ercurioMay'"
      ]
     },
     "execution_count": 2,
     "metadata": {},
     "output_type": "execute_result"
    }
   ],
   "source": [
    "# Solución\n",
    "def traducir(palabra):\n",
    "    if palabra[0] in 'aeiou':\n",
    "        return palabra + 'way'\n",
    "    else:\n",
    "        return palabra[1:]+palabra[0]+'ay'\n",
    "   \n",
    "def traducir_(direccion):\n",
    "    return ' '.join(traducir(palabra) for linea in open(direccion) for palabra in linea.split())\n",
    "direccion = 'Control_03.txt'\n",
    "traducir_(direccion)"
   ]
  },
  {
   "cell_type": "markdown",
   "metadata": {},
   "source": [
    "## Ejercicio 5: \n",
    "\n",
    "Crea un diccionario de longitud arbitraria donde las claves son únicas y los valores también son únicos.  \n",
    "Use ahora una lista por compresión para crear un diccionario invertido donde los valores y claves cambien de rol.\n",
    "\n",
    "\n",
    "Por ejemplo:\n",
    "diccionario= {'a':1,'b':2,'c':3}\n",
    "El resultado para diccionario debiera ser\n",
    "{1:'a', 2:'b', 3:'c'}"
   ]
  },
  {
   "cell_type": "code",
   "execution_count": 12,
   "metadata": {},
   "outputs": [
    {
     "data": {
      "text/plain": [
       "{1: 'a', 2: 'b', 3: 'c'}"
      ]
     },
     "execution_count": 12,
     "metadata": {},
     "output_type": "execute_result"
    }
   ],
   "source": [
    "# Solución\n",
    "def invertir(original):\n",
    "    return  {valor: clave for clave, valor in original.items()}\n",
    "diccionario= {'a':1,'b':2,'c':3}\n",
    "invertir(diccionario)\n"
   ]
  },
  {
   "cell_type": "markdown",
   "metadata": {},
   "source": [
    "## Ejercicio 6:  \n",
    "\n",
    "Cree una función *transforma_valores()* que reciba dos argumentos: una función (que recibe un solo argumento) y un diccionario. La función *transforma_valores()* debe devolver \n",
    "un diccionario con las mismas claves que el recibido, pero los valores deben ser el resultado de aplicar la función recibida al valor original.\n",
    "\n",
    "\n",
    "Por ejemplo:  \n",
    "diccionario= {'a':1,'b':2,'c':3}  \n",
    "transforma_valores(lambda x: x**x,diccionario)-->{'a':1, 'b':4, 'c':9}\n"
   ]
  },
  {
   "cell_type": "code",
   "execution_count": 13,
   "metadata": {},
   "outputs": [
    {
     "data": {
      "text/plain": [
       "{'a': 1, 'b': 4, 'c': 27, 'd': 256}"
      ]
     },
     "execution_count": 13,
     "metadata": {},
     "output_type": "execute_result"
    }
   ],
   "source": [
    "# Solución\n",
    "def transforma_valores(funcion,diccionario):\n",
    "    return {clave: funcion(valor) for clave, valor in diccionario.items()}\n",
    "\n",
    "diccionario= {'a':1,'b':2,'c':3,'d':4}  \n",
    "transforma_valores(lambda x: x**x,diccionario)"
   ]
  },
  {
   "cell_type": "markdown",
   "metadata": {},
   "source": [
    "## Ejercicio 7:  \n",
    "\n",
    "Escriba una función que recibe como único argumento el nombre de un archivo que tiene una palabra por linea. La función debe devolver un conjunto que contenga todas las palabras del archivo que son casi super vocálicas (incluye todas las vocales). (Hint: Utilizar compresión para generar el conjunto de salida y la operación \"<\" entre conjuntos)."
   ]
  },
  {
   "cell_type": "code",
   "execution_count": 56,
   "metadata": {},
   "outputs": [
    {
     "name": "stdout",
     "output_type": "stream",
     "text": [
      "{'sudorienta', 'suponieran,', 'contertulias,', 'euforia,', 'sudorientas,', 'cuodlibetal,', 'eubolia,', 'surroccidental,', 'curiosidades,', 'uglofinesa,', 'reconstructivas', 'desvinculados,', 'riachuelo.', 'desahucios,', 'sudorifera,', 'comunicarse,', 'suponieras', 'aeiou-,', 'cumplimentadlos,'}\n",
      "19\n"
     ]
    }
   ],
   "source": [
    "# Solución 1 (sin detectar acentos)\n",
    "def vocales(direccion):\n",
    "    return {palabra.strip()\n",
    "                for palabra in open(direccion)  \n",
    "                        if set(palabra.lower()) >= {'a', 'e', 'i', 'o', 'u'}}\n",
    "direccion = 'Datos_Clase_Ejercicios_06/archivo_en_castellano_long.txt'\n",
    "print(vocales(direccion))\n",
    "print(len(vocales(direccion)))"
   ]
  },
  {
   "cell_type": "code",
   "execution_count": 61,
   "metadata": {},
   "outputs": [
    {
     "name": "stdout",
     "output_type": "stream",
     "text": [
      "{'sudorienta', 'eufonía,', 'suponieran,', 'cumplimentadlos,', 'contertulias,', 'euforia,', 'sudorientas,', 'cuodlibetal,', 'eubolia,', 'surroccidental,', 'curiosidades,', 'uglofinesa,', 'reconstructivas', 'desvinculados,', 'murciélago.', 'riachuelo.', 'vislumbrándoles.', 'desahucios,', 'sudorifera,', 'comunicarse,', 'suponieras', 'aeiou-,', 'educación'}\n",
      "23\n"
     ]
    }
   ],
   "source": [
    "# Solución 2 (incorporando acentos)\n",
    "def quitar_tildes(palabra):\n",
    "    vocales = {'á': 'a','é': 'e','í': 'i','ó': 'o','ú': 'u'}\n",
    "    nueva_palabra=''\n",
    "    for letra in palabra:\n",
    "        if letra in vocales:\n",
    "            nueva_palabra += vocales[letra]\n",
    "        else:\n",
    "            nueva_palabra += letra\n",
    "    return nueva_palabra\n",
    "def vocales(direccion):\n",
    "    return {palabra.strip()\n",
    "                for palabra in open(direccion)  \n",
    "                        if set(quitar_tildes(palabra.lower())) >= {'a', 'e', 'i', 'o', 'u'}}\n",
    "direccion = 'Datos_Clase_Ejercicios_06/archivo_en_castellano_long.txt'\n",
    "print(vocales(direccion))\n",
    "print(len(vocales(direccion)))"
   ]
  },
  {
   "cell_type": "markdown",
   "metadata": {},
   "source": [
    "## Ejercicio 8:  \n",
    "\n",
    "Crear una función que devuelva un diccionario que tenga por claves las letras minúsculas del abecedario inglés y por valor el número corrido de su orden alfabético (desde 1 hasta 26). Escriba otra función similar para el abecedario del castellano (27 letras). (Hint: Utilice *string.ascii_lowercase* y genere los diccionario por compresión)."
   ]
  },
  {
   "cell_type": "code",
   "execution_count": null,
   "metadata": {},
   "outputs": [],
   "source": [
    "import string \n",
    "\n",
    "alfabeto_ingles=string.ascii_lowercase\n",
    "print(alfabeto_ingles)\n",
    "\n",
    "lista_enumerada=list(enumerate(string.ascii_lowercase,1))\n",
    "print(lista_enumerada[::7])\n",
    "ascii_castellano=alfabeto_ingles[:14]+'ñ'+alfabeto_ingles[14:]\n",
    "print(ascii_castellano)\n",
    "lista_enumerada_castellano=list(enumerate(ascii_castellano,1))\n",
    "print(lista_enumerada_castellano[::7])\n",
    "\n"
   ]
  },
  {
   "cell_type": "code",
   "execution_count": 68,
   "metadata": {},
   "outputs": [
    {
     "name": "stdout",
     "output_type": "stream",
     "text": [
      "{'a': 1, 'b': 2, 'c': 3, 'd': 4, 'e': 5, 'f': 6, 'g': 7, 'h': 8, 'i': 9, 'j': 10, 'k': 11, 'l': 12, 'm': 13, 'n': 14, 'o': 15, 'p': 16, 'q': 17, 'r': 18, 's': 19, 't': 20, 'u': 21, 'v': 22, 'w': 23, 'x': 24, 'y': 25, 'z': 26}\n"
     ]
    }
   ],
   "source": [
    "# Solución (para ingles)\n",
    "def diccionario(alfabeto):\n",
    "    return {clave: valor for valor, clave in enumerate(alfabeto,1) }\n",
    "diccionario_ingles=diccionario(alfabeto_ingles)\n",
    "print(diccionario_ingles)"
   ]
  },
  {
   "cell_type": "code",
   "execution_count": 75,
   "metadata": {},
   "outputs": [],
   "source": [
    "# Solución (para español)\n",
    "diccionario = diccionario(ascii_castellano)"
   ]
  },
  {
   "cell_type": "markdown",
   "metadata": {},
   "source": [
    "## Ejercicio 9:  \n",
    "\n",
    "Utilice los diccionarios creados en el ejercicio anterior para implementar dos funciones:\n",
    " \n",
    " * *gematria()*: Recibe una palabra (string) y devuelve el valor de gematría de la misma (suma de los valores del diccionario asociados a las letras de la plabra)  \n",
    " Por ejemplo: *gematria(*'ufro'*)*=63=22+6+19+16\n",
    "\n",
    " * *gematria_similares()*: Recibe una palabra (string) y el nombre de un archivo. Devuelve una lista de todas las palabras del archivo que tienen la misma gematria que la palabra recibida. (Todas la letras o simbolos que no estén en el diccionario cuentan con valor 0)."
   ]
  },
  {
   "cell_type": "code",
   "execution_count": 73,
   "metadata": {},
   "outputs": [
    {
     "data": {
      "text/plain": [
       "{'Among', 'among', 'away', 'cabaret', 'too', 'when', 'yet'}"
      ]
     },
     "execution_count": 73,
     "metadata": {},
     "output_type": "execute_result"
    }
   ],
   "source": [
    "# Solución \n",
    "# INGLES\n",
    "def gematria(palabra):\n",
    "    return sum(int (diccionario_ingles[clave]) for clave in palabra.lower() if clave in diccionario_ingles) \n",
    "\n",
    "def gematria_similares(word ,direccion):\n",
    "    return {palabras.strip() for linea in open(direccion) \n",
    "                                for palabras in linea.split() \n",
    "                                    if gematria(palabras)==gematria(word)}\n",
    "gematria_similares('apple','Datos_Clase_Ejercicios_06/archivo_en_ingles.txt')"
   ]
  },
  {
   "cell_type": "code",
   "execution_count": 76,
   "metadata": {},
   "outputs": [
    {
     "data": {
      "text/plain": [
       "{'Estas', 'estas', 'eubolia,', 'pueden', 'ricos', 'sudado'}"
      ]
     },
     "execution_count": 76,
     "metadata": {},
     "output_type": "execute_result"
    }
   ],
   "source": [
    "# Solución \n",
    "# ESPAÑOL\n",
    "def gematria_español(palabra):\n",
    "    return sum(int (diccionario[clave]) for clave in palabra.lower() if clave in diccionario) \n",
    "\n",
    "def gematria_similares_español(word ,direccion):\n",
    "    return {palabras for linea in open(direccion) \n",
    "                                for palabras in linea.split() \n",
    "                                    if gematria_español(palabras)==gematria_español(word)}\n",
    "gematria_similares_español('caballos','Datos_Clase_Ejercicios_06/archivo_en_castellano.txt')"
   ]
  }
 ],
 "metadata": {
  "kernelspec": {
   "display_name": "Python 3.6.5 ('base')",
   "language": "python",
   "name": "python3"
  },
  "language_info": {
   "codemirror_mode": {
    "name": "ipython",
    "version": 3
   },
   "file_extension": ".py",
   "mimetype": "text/x-python",
   "name": "python",
   "nbconvert_exporter": "python",
   "pygments_lexer": "ipython3",
   "version": "3.11.7"
  },
  "vscode": {
   "interpreter": {
    "hash": "e4cce46d6be9934fbd27f9ca0432556941ea5bdf741d4f4d64c6cd7f8dfa8fba"
   }
  }
 },
 "nbformat": 4,
 "nbformat_minor": 4
}
