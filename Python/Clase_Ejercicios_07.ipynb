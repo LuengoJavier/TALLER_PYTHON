{
 "cells": [
  {
   "cell_type": "markdown",
   "metadata": {},
   "source": [
    "# Herramientas básicas para el Análisis de Datos (IMA602)\n",
    "\n",
    "## Ejercicios sobre trabajo con funciones.\n"
   ]
  },
  {
   "cell_type": "markdown",
   "metadata": {},
   "source": [
    "## Ejercicio 1: \n",
    "\n",
    "Escribe una función *mi_xml()*  que genera un string de salida tipo xml. La función debe recibir al menos un argumento string que es el tipo tag. El segundo argumento (opcional) es el texto dentro del tag, que debe quedar ubicado entre la apertura y el cierre del tag. Los restantes argumentos (opcionales) son los atributos del tag que se ubican en la apertura del tag.\n",
    "\n",
    "Ejemplos:  \n",
    "mi_xml('tag1') --> \\<tag1>\\</tag1>  \n",
    "mi_xml('tag1','texto') --> \\<tag1>texto\\</tag1>  \n",
    "mi_xml('tag1','texto', atrib_1=1, atrib_2=2, atrib_3=3) --> \\<tag1 atrib_1=\"1\" atrib_2=\"2\" atrib_3=\"3\">texto\\</tag1>"
   ]
  },
  {
   "cell_type": "code",
   "execution_count": null,
   "metadata": {},
   "outputs": [],
   "source": [
    "# Solución:\n",
    "def mi_xml():\n",
    "    "
   ]
  },
  {
   "cell_type": "markdown",
   "metadata": {},
   "source": [
    "## Ejercicio 2: \n",
    "\n",
    "Escriba una función *calc()* que haga las operaciones elementales, a saber: suma, resta, multiplicación, división (/), modulo (%) y potencia(**). Las operación se declara en un string que contiene primero la operación y luego los dos números enteros separados por espacio en blanco:\n",
    "\n",
    "Ejemplos:  \n",
    "calc('+ 4 3') --> 7  \n",
    "calc('- 4 3') --> 1  \n",
    "calc('* 4 3') --> 12  \n",
    "calc('/ 4 3') --> 1.333  \n",
    "calc('% 4 3') --> 1  \n",
    "calc('** 4 3') --> 64\n"
   ]
  },
  {
   "cell_type": "code",
   "execution_count": 3,
   "metadata": {},
   "outputs": [
    {
     "data": {
      "text/plain": [
       "7.0"
      ]
     },
     "execution_count": 3,
     "metadata": {},
     "output_type": "execute_result"
    },
    {
     "ename": "",
     "evalue": "",
     "output_type": "error",
     "traceback": [
      "\u001b[1;31mThe Kernel crashed while executing code in the current cell or a previous cell. \n",
      "\u001b[1;31mPlease review the code in the cell(s) to identify a possible cause of the failure. \n",
      "\u001b[1;31mClick <a href='https://aka.ms/vscodeJupyterKernelCrash'>here</a> for more info. \n",
      "\u001b[1;31mView Jupyter <a href='command:jupyter.viewOutput'>log</a> for further details."
     ]
    }
   ],
   "source": [
    "# Solución\n",
    "import operator\n",
    "\n",
    "def calc(string):\n",
    "    operador,a,b = string.split()\n",
    "    a = float(a)\n",
    "    b = float(b)\n",
    "    claves = {'+':operator.add, '-':operator.sub, '*':operator.mul,'/':operator.truediv,'%':operator.mod,'**':operator.pow}\n",
    "    return claves[operador](a,b)\n",
    "    '''if operador == '+':\n",
    "        return operator.add(a,b)\n",
    "    elif operador == '-':\n",
    "        return operator.sub(a,b)\n",
    "    elif operador == '*':\n",
    "        return operator.mul(a,b)\n",
    "    elif operador == '/':\n",
    "        return operator.truediv(a,b)\n",
    "    elif operador == '%':\n",
    "        return operator.mod(a,b)\n",
    "    elif operador == '**':\n",
    "        return operator.pow(a,b)\n",
    "    else:\n",
    "        return \"Operación no válida\"'''\n",
    "\n",
    "calc('+ 4 3')\n",
    "#Hint \n"
   ]
  },
  {
   "cell_type": "markdown",
   "metadata": {},
   "source": [
    "## Ejercicio 3: \n",
    "\n",
    "Escribir una función *crea_generador_passwords()* que cree funciones generadoras de passwords. La función debe recibir un string  y crear otra función. La función creada debe recibir un entero y entregar una password del largo del entero utilizando los caracteres del string.\n",
    "\n",
    "Ejemplos:  \n",
    "\n",
    "password_letras=crea_generador_passwords('abcdef')  \n",
    "password_simbolos=crea_generador_passwords('!@#$/%')\n",
    "\n",
    "password_letras(5) --> 'affcd'  \n",
    "password_simbolos(4) --> '/#@#'\n"
   ]
  },
  {
   "cell_type": "code",
   "execution_count": null,
   "metadata": {},
   "outputs": [],
   "source": [
    "import random\n",
    "\n",
    "print(random.choice('!@#$/%'))\n",
    "print(random.choice('!@#$/%'))\n",
    "print(random.choice('!@#$/%'))\n",
    "print(random.choice('!@#$/%'))\n"
   ]
  },
  {
   "cell_type": "code",
   "execution_count": null,
   "metadata": {},
   "outputs": [],
   "source": [
    "# Solución\n",
    "\n"
   ]
  }
 ],
 "metadata": {
  "kernelspec": {
   "display_name": "Python 3.6.5 ('base')",
   "language": "python",
   "name": "python3"
  },
  "language_info": {
   "codemirror_mode": {
    "name": "ipython",
    "version": 3
   },
   "file_extension": ".py",
   "mimetype": "text/x-python",
   "name": "python",
   "nbconvert_exporter": "python",
   "pygments_lexer": "ipython3",
   "version": "3.11.7"
  },
  "vscode": {
   "interpreter": {
    "hash": "e4cce46d6be9934fbd27f9ca0432556941ea5bdf741d4f4d64c6cd7f8dfa8fba"
   }
  }
 },
 "nbformat": 4,
 "nbformat_minor": 4
}
