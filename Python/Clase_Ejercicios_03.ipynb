{
 "cells": [
  {
   "cell_type": "markdown",
   "metadata": {},
   "source": [
    "# Herramientas básicas para el Análisis de Datos (IMA602)\n",
    "\n",
    "## Ejercicios sobre trabajo con tipos de datos estructurados (string, listas y tuplas).\n"
   ]
  },
  {
   "cell_type": "markdown",
   "metadata": {},
   "source": [
    "## Ejercicio 1: \n",
    "\n",
    "1. Escriba una función que recibe una palabra en ingles y la traduce a inglés secreto de acuerdo a las siguientes reglas:\n",
    "\n",
    "    * Si la palabra comienza con una vocal se añade \"way\" al final. Por ejemplo: eagle -> eagleway.\n",
    "    * Si la palabra comienza con consonante, se traslada la consonante al final y se añade \"ay\". Por ejemplo: sound -> oundsay."
   ]
  },
  {
   "cell_type": "markdown",
   "metadata": {},
   "source": [
    "### Solución\n"
   ]
  },
  {
   "cell_type": "code",
   "execution_count": 4,
   "metadata": {},
   "outputs": [
    {
     "name": "stdout",
     "output_type": "stream",
     "text": [
      "appleway\n",
      "ineapplepay\n"
     ]
    }
   ],
   "source": [
    "# Python entiende un string como una secuencia de caracteres!!\n",
    "def traducir(palabra):\n",
    "    if palabra[0] in 'aeiou':\n",
    "        return palabra + 'way'\n",
    "    else:\n",
    "        return palabra[1:]+palabra[0]+'ay'\n",
    "print(traducir('apple'))\n",
    "print(traducir('pineapple'))"
   ]
  },
  {
   "cell_type": "markdown",
   "metadata": {},
   "source": [
    "## Ejercicio 2: \n",
    "\n",
    "1. Escriba una función que recibe una palabra en ingles y la traduce a \"ubi-inglés\" en tanto a cada vocal se le antepone \"ub\". Ejemplos:\n",
    "\n",
    "    * octopus --> ubotubopubus\n",
    "    * soap -->suboubap"
   ]
  },
  {
   "cell_type": "markdown",
   "metadata": {},
   "source": [
    "### Solución"
   ]
  },
  {
   "cell_type": "code",
   "execution_count": 7,
   "metadata": {},
   "outputs": [
    {
     "name": "stdout",
     "output_type": "stream",
     "text": [
      "ubapplube\n",
      "pubinubeubapplube\n"
     ]
    }
   ],
   "source": [
    "def traducir_v2(palabra):\n",
    "    traduccion = ''\n",
    "    for letra in palabra:\n",
    "        if letra in 'aeiou':\n",
    "            traduccion +='ub'+letra\n",
    "        else:\n",
    "            traduccion += letra\n",
    "    return traduccion\n",
    "print(traducir_v2('apple'))\n",
    "print(traducir_v2('pineapple'))"
   ]
  },
  {
   "cell_type": "markdown",
   "metadata": {},
   "source": [
    "## Ejercicio 3: \n",
    "\n",
    "2. Escribir una función strsort que reciba un string y devuelva un string. El string devuelto debe tener los mismos caracteres del string de entrada, pero ordenados de acuerdo al Unicoce.Por ejemplo: strsort('casa') -> 'aacs'"
   ]
  },
  {
   "cell_type": "code",
   "execution_count": 8,
   "metadata": {},
   "outputs": [
    {
     "name": "stdout",
     "output_type": "stream",
     "text": [
      "[1, 2, 4]\n",
      "['a', 'b', 'b', 'd', 'e']\n",
      "[' ', ' ', ' ', ' ', ' ', 'a', 'a', 'a', 'a', 'b', 'b', 'd', 'e', 'e', 'i', 'l', 'l', 'n', 'n', 'o', 'o', 'o', 'p', 'p', 'p', 'r', 'r', 'r', 's', 's', 's', 't', 't', 'u', 'u']\n",
      "['Pasar', 'casino', 'da', 'el', 'hambre', 'me', 'por']\n"
     ]
    }
   ],
   "source": [
    "## Función que ordena \n",
    "\n",
    "print(sorted([4,2,1]))\n",
    "print(sorted('abebd'))\n",
    "print(sorted('unir estas palabras por doble punto'))\n",
    "print(sorted(['Pasar', 'por',  'el', 'casino', 'me', 'da', 'hambre']))"
   ]
  },
  {
   "cell_type": "code",
   "execution_count": 9,
   "metadata": {},
   "outputs": [
    {
     "name": "stdout",
     "output_type": "stream",
     "text": [
      "['unir', 'estas', 'palabras', 'por', 'doble', 'punto']\n",
      "unir:estas:palabras:por:doble:punto\n"
     ]
    }
   ],
   "source": [
    "# Función que separa y que une\n",
    "\n",
    "print('unir estas palabras por doble punto'.split())\n",
    "\n",
    "print(':'.join('unir estas palabras por doble punto'.split()))\n"
   ]
  },
  {
   "cell_type": "markdown",
   "metadata": {},
   "source": [
    "### Solución\n"
   ]
  },
  {
   "cell_type": "code",
   "execution_count": 17,
   "metadata": {},
   "outputs": [
    {
     "name": "stdout",
     "output_type": "stream",
     "text": [
      "Caas\n"
     ]
    }
   ],
   "source": [
    "def orden_Unicode(palabra):\n",
    "    return ''.join(sorted(palabra))\n",
    "print(orden_Unicode('Casa'))"
   ]
  },
  {
   "cell_type": "markdown",
   "metadata": {},
   "source": [
    "## Ejercicio 4: \n",
    "\n",
    "Escribir una función 'primero_ultimo()' que reciba una secuencia (string, list o tuple) y entregue un secuencia del mismo tipo, pero que contenga solo los elementos inicial y final de la secuencia de entrada. \n",
    "\n",
    "Por ejemplo: primero_ultimo('UFRO') -> 'UO'; primero_ultimo([2, 3, 9, 1])->[2, 1]. primero_ultimo((2,4,8))->(2,8)."
   ]
  },
  {
   "cell_type": "code",
   "execution_count": 18,
   "metadata": {},
   "outputs": [
    {
     "name": "stdout",
     "output_type": "stream",
     "text": [
      "d\n"
     ]
    }
   ],
   "source": [
    "## CURIOSIDAD\n",
    "s='abcd'\n",
    "#print(s[4])\n",
    "\n",
    "print(s[3:10])"
   ]
  },
  {
   "cell_type": "code",
   "execution_count": 19,
   "metadata": {},
   "outputs": [
    {
     "name": "stdout",
     "output_type": "stream",
     "text": [
      "1\n",
      "<class 'int'>\n",
      "[1]\n",
      "<class 'list'>\n"
     ]
    }
   ],
   "source": [
    "## Extrayendo elementos con slices conserva el tipo de secuencia!!\n",
    "\n",
    "s=[1, 2, 3]\n",
    "print(s[0])\n",
    "print(type(s[0]))\n",
    "print(s[:1])\n",
    "print(type(s[:1]))\n"
   ]
  },
  {
   "cell_type": "code",
   "execution_count": 26,
   "metadata": {},
   "outputs": [
    {
     "name": "stdout",
     "output_type": "stream",
     "text": [
      "ac\n",
      "ac\n",
      "4\n",
      "algomal\n"
     ]
    }
   ],
   "source": [
    "# NO ES SOLUCIÓN\n",
    "\n",
    "def primero_ultimo_malo(secuencia):\n",
    "    return secuencia[0]+secuencia[-1]\n",
    "\n",
    "print(primero_ultimo_malo('abc'))\n",
    "\n",
    "print(primero_ultimo_malo(('a', 'b', 'c')))\n",
    "\n",
    "print(primero_ultimo_malo([1,2,3]))\n",
    "\n",
    "print(primero_ultimo_malo(['algo','anda','mal']))"
   ]
  },
  {
   "cell_type": "code",
   "execution_count": 25,
   "metadata": {},
   "outputs": [
    {
     "name": "stdout",
     "output_type": "stream",
     "text": [
      "ae\n",
      "('a', 'c')\n",
      "[1, 5]\n"
     ]
    }
   ],
   "source": [
    "#Solución\n",
    "def primero_ultimo(sencuencia):\n",
    "    return sencuencia[:1]+sencuencia[-1:]\n",
    "\n",
    "print(primero_ultimo('apple'))\n",
    "print(primero_ultimo(('a','b','c')))\n",
    "print(primero_ultimo([1,2,3,4,5]))"
   ]
  },
  {
   "cell_type": "markdown",
   "metadata": {},
   "source": [
    "## Ejercicio 5: \n",
    "\n",
    "Escribir una función 'suma_todo()' que reciba una cantidad arbitraria de elementos y los suma. Los elementos a sumar tienen que ser del mismo tipo y responder a '+' (por ejemplo enteros, flotantes, strings, o listas).\n",
    "\n",
    "Por ejemplo: suma_todo('yo', 'soy', 'ufro') -> 'yosoyufro'; suma_todo([1,2,3], [4,5,6])->[1,2,3,4,5,6];\n",
    "suma_todo(1,2,3)->6"
   ]
  },
  {
   "cell_type": "code",
   "execution_count": 9,
   "metadata": {},
   "outputs": [
    {
     "name": "stdout",
     "output_type": "stream",
     "text": [
      "yosoyufro\n",
      "[1, 2, 3, 4, 5, 6]\n",
      "6\n"
     ]
    }
   ],
   "source": [
    "def suma_todo(*argumento):\n",
    "\n",
    "    if not argumento:\n",
    "        return \"No se proporcionaron elementos para sumar.\"\n",
    "    salida = argumento[0]\n",
    "    \n",
    "    for argumento in argumento[1:]:\n",
    "        salida += argumento\n",
    "    return salida\n",
    "\n",
    "\n",
    "print(suma_todo('yo', 'soy', 'ufro'))  \n",
    "print(suma_todo([1, 2, 3], [4, 5, 6]))  \n",
    "print(suma_todo(1, 2, 3)) \n",
    "    \n"
   ]
  },
  {
   "cell_type": "markdown",
   "metadata": {},
   "source": [
    "## Ejercicio 6: \n",
    "\n",
    "Se tiene una lista de datos de los estudiantes de la asignatura (para cada persona existe un diccionario que contiene nombre,primer_apellido y correo_electrónico). \n",
    "\n",
    "Escriba una función alfabetiza_nombres() que recibe la lista anterior y entrega la lista ordenada por orden alfabético según el primer apellido (si conincide el primer apellido, entonces ordena alfabeticamente por nombre)\n"
   ]
  },
  {
   "cell_type": "markdown",
   "metadata": {},
   "source": [
    "\n",
    "\n",
    "### Solución\n",
    "\n"
   ]
  },
  {
   "cell_type": "code",
   "execution_count": 28,
   "metadata": {},
   "outputs": [],
   "source": [
    "LISTA_DE_ESTUDIANTES=[\n",
    "{'primer_nombre': 'MONSERRATH',  'primer_apellido': 'ALVAREZ',  'correo': 'm.alvarez17@ufromail.cl'},\n",
    "{'primer_nombre': 'CAMILA',  'primer_apellido': 'CARTES',  'correo': 'c.cartes07@ufromail.cl'},\n",
    "{'primer_nombre': 'MARCELO',  'primer_apellido': 'CASTRO',  'correo': 'm.castro14@ufromail.cl'},\n",
    "{'primer_nombre': 'ARELY',  'primer_apellido': 'CONCHA',  'correo': 'a.concha06@ufromail.cl'},\n",
    "{'primer_nombre': 'LUIS',  'primer_apellido': 'GUERRERO',  'correo': 'l.guerrero01@ufromail.cl'},\n",
    "{'primer_nombre': 'DANIEL',  'primer_apellido': 'KOH',  'correo': 'd.koh01@ufromail.cl'},\n",
    "{'primer_nombre': 'GERMÁN',  'primer_apellido': 'LAGOS',  'correo': 'g.lagos05@ufromail.cl'},\n",
    "{'primer_nombre': 'ALAN',  'primer_apellido': 'LÓPEZ',  'correo': 'a.lopez07@ufromail.cl'},\n",
    "{'primer_nombre': 'JAVIER',  'primer_apellido': 'LUENGO',  'correo': 'j.luengo02@ufromail.cl'},\n",
    "{'primer_nombre': 'JOSÉ',  'primer_apellido': 'MATUS',  'correo': 'j.matus06@ufromail.cl'},\n",
    "{'primer_nombre': 'NICOLÁS',  'primer_apellido': 'MONTECINOS',  'correo': 'n.montecinos01@ufromail.cl'},\n",
    "{'primer_nombre': 'IGNACIO',  'primer_apellido': 'MORALES',  'correo': 'i.morales04@ufromail.cl'},\n",
    "{'primer_nombre': 'STEVEN',  'primer_apellido': 'NAHUELPÁN',  'correo': 's.nahuelpan01@ufromail.cl'},\n",
    "{'primer_nombre': 'JAVIERA',  'primer_apellido': 'OLAVE',  'correo': 'j.olave01@ufromail.cl'},\n",
    "{'primer_nombre': 'SEBASTIÁN',  'primer_apellido': 'OLIVA',  'correo': 's.oliva01@ufromail.cl'},\n",
    "{'primer_nombre': 'MANLET',  'primer_apellido': 'SÁNCHEZ',  'correo': 'm.sanchez10@ufromail.cl'},\n",
    "{'primer_nombre': 'MILLARAY',  'primer_apellido': 'TRANGOL',  'correo': 'm.trangol01@ufromail.cl'},\n",
    "{'primer_nombre': 'CAROLINA',  'primer_apellido': 'VALLEJOS',  'correo': 'c.vallejos05@ufromail.cl'}\n",
    "]"
   ]
  },
  {
   "cell_type": "code",
   "execution_count": 29,
   "metadata": {},
   "outputs": [
    {
     "name": "stdout",
     "output_type": "stream",
     "text": [
      "['bencina', 'de', 'el', 'ha', 'la', 'mucho', 'precio', 'subido']\n",
      "['ha', 'el', 'de', 'la', 'mucho', 'subido', 'precio', 'bencina']\n",
      "['ha', 'la', 'bencina', 'de', 'el', 'subido', 'mucho', 'precio']\n"
     ]
    }
   ],
   "source": [
    "# UTILIZANDO 'sorted()' con key\n",
    "\n",
    "lista1=['ha', 'subido', 'mucho', 'el', 'precio', 'de', 'la', 'bencina']\n",
    "print(sorted(lista1))\n",
    "print(sorted(lista1,key=len))\n",
    "print(sorted(lista1,key=lambda x: x[-1:]))\n"
   ]
  },
  {
   "cell_type": "code",
   "execution_count": 30,
   "metadata": {},
   "outputs": [
    {
     "name": "stdout",
     "output_type": "stream",
     "text": [
      "{'primer_nombre': 'MONSERRATH', 'primer_apellido': 'ALVAREZ', 'correo': 'm.alvarez17@ufromail.cl'}\n",
      "{'primer_nombre': 'CAMILA', 'primer_apellido': 'CARTES', 'correo': 'c.cartes07@ufromail.cl'}\n",
      "{'primer_nombre': 'MARCELO', 'primer_apellido': 'CASTRO', 'correo': 'm.castro14@ufromail.cl'}\n",
      "{'primer_nombre': 'ARELY', 'primer_apellido': 'CONCHA', 'correo': 'a.concha06@ufromail.cl'}\n",
      "{'primer_nombre': 'LUIS', 'primer_apellido': 'GUERRERO', 'correo': 'l.guerrero01@ufromail.cl'}\n",
      "{'primer_nombre': 'DANIEL', 'primer_apellido': 'KOH', 'correo': 'd.koh01@ufromail.cl'}\n",
      "{'primer_nombre': 'GERMÁN', 'primer_apellido': 'LAGOS', 'correo': 'g.lagos05@ufromail.cl'}\n",
      "{'primer_nombre': 'JAVIER', 'primer_apellido': 'LUENGO', 'correo': 'j.luengo02@ufromail.cl'}\n",
      "{'primer_nombre': 'ALAN', 'primer_apellido': 'LÓPEZ', 'correo': 'a.lopez07@ufromail.cl'}\n",
      "{'primer_nombre': 'JOSÉ', 'primer_apellido': 'MATUS', 'correo': 'j.matus06@ufromail.cl'}\n",
      "{'primer_nombre': 'NICOLÁS', 'primer_apellido': 'MONTECINOS', 'correo': 'n.montecinos01@ufromail.cl'}\n",
      "{'primer_nombre': 'IGNACIO', 'primer_apellido': 'MORALES', 'correo': 'i.morales04@ufromail.cl'}\n",
      "{'primer_nombre': 'STEVEN', 'primer_apellido': 'NAHUELPÁN', 'correo': 's.nahuelpan01@ufromail.cl'}\n",
      "{'primer_nombre': 'JAVIERA', 'primer_apellido': 'OLAVE', 'correo': 'j.olave01@ufromail.cl'}\n",
      "{'primer_nombre': 'SEBASTIÁN', 'primer_apellido': 'OLIVA', 'correo': 's.oliva01@ufromail.cl'}\n",
      "{'primer_nombre': 'MANLET', 'primer_apellido': 'SÁNCHEZ', 'correo': 'm.sanchez10@ufromail.cl'}\n",
      "{'primer_nombre': 'MILLARAY', 'primer_apellido': 'TRANGOL', 'correo': 'm.trangol01@ufromail.cl'}\n",
      "{'primer_nombre': 'CAROLINA', 'primer_apellido': 'VALLEJOS', 'correo': 'c.vallejos05@ufromail.cl'}\n"
     ]
    }
   ],
   "source": [
    "# SOLUCIÓN sin considerar los nombres \n",
    "\n",
    "def alfabetiza_nombres(lista_de_dicts):\n",
    "    return sorted(lista_de_dicts,key=lambda x: x['primer_apellido'])\n",
    "\n",
    "for person in alfabetiza_nombres(LISTA_DE_ESTUDIANTES):\n",
    "    print(person)"
   ]
  },
  {
   "cell_type": "code",
   "execution_count": 31,
   "metadata": {},
   "outputs": [],
   "source": [
    "# NUEVOS ESTUDIANTES\n",
    "\n",
    "LISTA_DE_ESTUDIANTES.extend([\n",
    "    {'primer_nombre': 'WALTER', 'primer_apellido': 'GOMEZ', 'email': 'walter.gomez@ufrontera.cl'},\n",
    "    {'primer_nombre': 'PROFE', 'primer_apellido': 'GOMEZ', 'email': 'walter.gomez@ufrontera.cl'}\n",
    "    ])\n"
   ]
  },
  {
   "cell_type": "code",
   "execution_count": 32,
   "metadata": {},
   "outputs": [
    {
     "name": "stdout",
     "output_type": "stream",
     "text": [
      "{'primer_nombre': 'MONSERRATH', 'primer_apellido': 'ALVAREZ', 'correo': 'm.alvarez17@ufromail.cl'}\n",
      "{'primer_nombre': 'CAMILA', 'primer_apellido': 'CARTES', 'correo': 'c.cartes07@ufromail.cl'}\n",
      "{'primer_nombre': 'MARCELO', 'primer_apellido': 'CASTRO', 'correo': 'm.castro14@ufromail.cl'}\n",
      "{'primer_nombre': 'ARELY', 'primer_apellido': 'CONCHA', 'correo': 'a.concha06@ufromail.cl'}\n",
      "{'primer_nombre': 'LUIS', 'primer_apellido': 'GUERRERO', 'correo': 'l.guerrero01@ufromail.cl'}\n",
      "{'primer_nombre': 'DANIEL', 'primer_apellido': 'KOH', 'correo': 'd.koh01@ufromail.cl'}\n",
      "{'primer_nombre': 'GERMÁN', 'primer_apellido': 'LAGOS', 'correo': 'g.lagos05@ufromail.cl'}\n",
      "{'primer_nombre': 'ALAN', 'primer_apellido': 'LÓPEZ', 'correo': 'a.lopez07@ufromail.cl'}\n",
      "{'primer_nombre': 'JAVIER', 'primer_apellido': 'LUENGO', 'correo': 'j.luengo02@ufromail.cl'}\n",
      "{'primer_nombre': 'JOSÉ', 'primer_apellido': 'MATUS', 'correo': 'j.matus06@ufromail.cl'}\n",
      "{'primer_nombre': 'NICOLÁS', 'primer_apellido': 'MONTECINOS', 'correo': 'n.montecinos01@ufromail.cl'}\n",
      "{'primer_nombre': 'IGNACIO', 'primer_apellido': 'MORALES', 'correo': 'i.morales04@ufromail.cl'}\n",
      "{'primer_nombre': 'STEVEN', 'primer_apellido': 'NAHUELPÁN', 'correo': 's.nahuelpan01@ufromail.cl'}\n",
      "{'primer_nombre': 'JAVIERA', 'primer_apellido': 'OLAVE', 'correo': 'j.olave01@ufromail.cl'}\n",
      "{'primer_nombre': 'SEBASTIÁN', 'primer_apellido': 'OLIVA', 'correo': 's.oliva01@ufromail.cl'}\n",
      "{'primer_nombre': 'MANLET', 'primer_apellido': 'SÁNCHEZ', 'correo': 'm.sanchez10@ufromail.cl'}\n",
      "{'primer_nombre': 'MILLARAY', 'primer_apellido': 'TRANGOL', 'correo': 'm.trangol01@ufromail.cl'}\n",
      "{'primer_nombre': 'CAROLINA', 'primer_apellido': 'VALLEJOS', 'correo': 'c.vallejos05@ufromail.cl'}\n",
      "{'primer_nombre': 'WALTER', 'primer_apellido': 'GOMEZ', 'email': 'walter.gomez@ufrontera.cl'}\n",
      "{'primer_nombre': 'PROFE', 'primer_apellido': 'GOMEZ', 'email': 'walter.gomez@ufrontera.cl'}\n"
     ]
    }
   ],
   "source": [
    "# CHEQUEO\n",
    "for person in LISTA_DE_ESTUDIANTES:\n",
    "    print(person)\n"
   ]
  },
  {
   "cell_type": "code",
   "execution_count": 33,
   "metadata": {},
   "outputs": [
    {
     "name": "stdout",
     "output_type": "stream",
     "text": [
      "{'primer_nombre': 'MONSERRATH', 'primer_apellido': 'ALVAREZ', 'correo': 'm.alvarez17@ufromail.cl'}\n",
      "{'primer_nombre': 'CAMILA', 'primer_apellido': 'CARTES', 'correo': 'c.cartes07@ufromail.cl'}\n",
      "{'primer_nombre': 'MARCELO', 'primer_apellido': 'CASTRO', 'correo': 'm.castro14@ufromail.cl'}\n",
      "{'primer_nombre': 'ARELY', 'primer_apellido': 'CONCHA', 'correo': 'a.concha06@ufromail.cl'}\n",
      "{'primer_nombre': 'WALTER', 'primer_apellido': 'GOMEZ', 'email': 'walter.gomez@ufrontera.cl'}\n",
      "{'primer_nombre': 'PROFE', 'primer_apellido': 'GOMEZ', 'email': 'walter.gomez@ufrontera.cl'}\n",
      "{'primer_nombre': 'LUIS', 'primer_apellido': 'GUERRERO', 'correo': 'l.guerrero01@ufromail.cl'}\n",
      "{'primer_nombre': 'DANIEL', 'primer_apellido': 'KOH', 'correo': 'd.koh01@ufromail.cl'}\n",
      "{'primer_nombre': 'GERMÁN', 'primer_apellido': 'LAGOS', 'correo': 'g.lagos05@ufromail.cl'}\n",
      "{'primer_nombre': 'JAVIER', 'primer_apellido': 'LUENGO', 'correo': 'j.luengo02@ufromail.cl'}\n",
      "{'primer_nombre': 'ALAN', 'primer_apellido': 'LÓPEZ', 'correo': 'a.lopez07@ufromail.cl'}\n",
      "{'primer_nombre': 'JOSÉ', 'primer_apellido': 'MATUS', 'correo': 'j.matus06@ufromail.cl'}\n",
      "{'primer_nombre': 'NICOLÁS', 'primer_apellido': 'MONTECINOS', 'correo': 'n.montecinos01@ufromail.cl'}\n",
      "{'primer_nombre': 'IGNACIO', 'primer_apellido': 'MORALES', 'correo': 'i.morales04@ufromail.cl'}\n",
      "{'primer_nombre': 'STEVEN', 'primer_apellido': 'NAHUELPÁN', 'correo': 's.nahuelpan01@ufromail.cl'}\n",
      "{'primer_nombre': 'JAVIERA', 'primer_apellido': 'OLAVE', 'correo': 'j.olave01@ufromail.cl'}\n",
      "{'primer_nombre': 'SEBASTIÁN', 'primer_apellido': 'OLIVA', 'correo': 's.oliva01@ufromail.cl'}\n",
      "{'primer_nombre': 'MANLET', 'primer_apellido': 'SÁNCHEZ', 'correo': 'm.sanchez10@ufromail.cl'}\n",
      "{'primer_nombre': 'MILLARAY', 'primer_apellido': 'TRANGOL', 'correo': 'm.trangol01@ufromail.cl'}\n",
      "{'primer_nombre': 'CAROLINA', 'primer_apellido': 'VALLEJOS', 'correo': 'c.vallejos05@ufromail.cl'}\n"
     ]
    }
   ],
   "source": [
    "# ORDENANDO POR APELLIDOS (Y NOMBRES?)\n",
    "for person in alfabetiza_nombres(LISTA_DE_ESTUDIANTES):\n",
    "    print(person)"
   ]
  },
  {
   "cell_type": "code",
   "execution_count": 34,
   "metadata": {},
   "outputs": [
    {
     "name": "stdout",
     "output_type": "stream",
     "text": [
      "{'primer_nombre': 'MONSERRATH', 'primer_apellido': 'ALVAREZ', 'correo': 'm.alvarez17@ufromail.cl'}\n",
      "{'primer_nombre': 'CAMILA', 'primer_apellido': 'CARTES', 'correo': 'c.cartes07@ufromail.cl'}\n",
      "{'primer_nombre': 'MARCELO', 'primer_apellido': 'CASTRO', 'correo': 'm.castro14@ufromail.cl'}\n",
      "{'primer_nombre': 'ARELY', 'primer_apellido': 'CONCHA', 'correo': 'a.concha06@ufromail.cl'}\n",
      "{'primer_nombre': 'PROFE', 'primer_apellido': 'GOMEZ', 'email': 'walter.gomez@ufrontera.cl'}\n",
      "{'primer_nombre': 'WALTER', 'primer_apellido': 'GOMEZ', 'email': 'walter.gomez@ufrontera.cl'}\n",
      "{'primer_nombre': 'LUIS', 'primer_apellido': 'GUERRERO', 'correo': 'l.guerrero01@ufromail.cl'}\n",
      "{'primer_nombre': 'DANIEL', 'primer_apellido': 'KOH', 'correo': 'd.koh01@ufromail.cl'}\n",
      "{'primer_nombre': 'GERMÁN', 'primer_apellido': 'LAGOS', 'correo': 'g.lagos05@ufromail.cl'}\n",
      "{'primer_nombre': 'JAVIER', 'primer_apellido': 'LUENGO', 'correo': 'j.luengo02@ufromail.cl'}\n",
      "{'primer_nombre': 'ALAN', 'primer_apellido': 'LÓPEZ', 'correo': 'a.lopez07@ufromail.cl'}\n",
      "{'primer_nombre': 'JOSÉ', 'primer_apellido': 'MATUS', 'correo': 'j.matus06@ufromail.cl'}\n",
      "{'primer_nombre': 'NICOLÁS', 'primer_apellido': 'MONTECINOS', 'correo': 'n.montecinos01@ufromail.cl'}\n",
      "{'primer_nombre': 'IGNACIO', 'primer_apellido': 'MORALES', 'correo': 'i.morales04@ufromail.cl'}\n",
      "{'primer_nombre': 'STEVEN', 'primer_apellido': 'NAHUELPÁN', 'correo': 's.nahuelpan01@ufromail.cl'}\n",
      "{'primer_nombre': 'JAVIERA', 'primer_apellido': 'OLAVE', 'correo': 'j.olave01@ufromail.cl'}\n",
      "{'primer_nombre': 'SEBASTIÁN', 'primer_apellido': 'OLIVA', 'correo': 's.oliva01@ufromail.cl'}\n",
      "{'primer_nombre': 'MANLET', 'primer_apellido': 'SÁNCHEZ', 'correo': 'm.sanchez10@ufromail.cl'}\n",
      "{'primer_nombre': 'MILLARAY', 'primer_apellido': 'TRANGOL', 'correo': 'm.trangol01@ufromail.cl'}\n",
      "{'primer_nombre': 'CAROLINA', 'primer_apellido': 'VALLEJOS', 'correo': 'c.vallejos05@ufromail.cl'}\n"
     ]
    }
   ],
   "source": [
    "# SOLUCIÓN ORDENANDO POR APELLIDOS Y DESPUÉS POR NOMBRE\n",
    "\n",
    "def alfabetiza_nombres(lista_de_dicts):\n",
    "    return sorted(lista_de_dicts,key=lambda x: [x['primer_apellido'], x['primer_nombre']])\n",
    "\n",
    "for person in alfabetiza_nombres(LISTA_DE_ESTUDIANTES):\n",
    "    print(person)"
   ]
  },
  {
   "cell_type": "code",
   "execution_count": 35,
   "metadata": {},
   "outputs": [
    {
     "name": "stdout",
     "output_type": "stream",
     "text": [
      "('c', 'e')\n",
      "(30, 50)\n",
      "('GOMEZ', 'WALTER')\n"
     ]
    }
   ],
   "source": [
    "# librería operator (funcionalidad itemgetter)\n",
    "import operator\n",
    "\n",
    "ejemplo1='abcdef'\n",
    "ejemplo2=(10, 20,30,40,50)\n",
    "ejemplo3={'nombre': 'WALTER', 'primer_apellido': 'GOMEZ', 'email': 'walter.gomez@ufrontera.cl'}\n",
    "\n",
    "dame_2do_y_4to=operator.itemgetter(2,4)\n",
    "print(dame_2do_y_4to(ejemplo1))\n",
    "print(dame_2do_y_4to(ejemplo2))\n",
    "\n",
    "dame_apellido_y_nombre=operator.itemgetter('primer_apellido','nombre')\n",
    "print(dame_apellido_y_nombre(ejemplo3))\n",
    "\n",
    "#OBS: UTILIZANDO operator.itemgetter() obtenemos una función\n"
   ]
  },
  {
   "cell_type": "code",
   "execution_count": 36,
   "metadata": {},
   "outputs": [
    {
     "name": "stdout",
     "output_type": "stream",
     "text": [
      "{'primer_nombre': 'MONSERRATH', 'primer_apellido': 'ALVAREZ', 'correo': 'm.alvarez17@ufromail.cl'}\n",
      "{'primer_nombre': 'CAMILA', 'primer_apellido': 'CARTES', 'correo': 'c.cartes07@ufromail.cl'}\n",
      "{'primer_nombre': 'MARCELO', 'primer_apellido': 'CASTRO', 'correo': 'm.castro14@ufromail.cl'}\n",
      "{'primer_nombre': 'ARELY', 'primer_apellido': 'CONCHA', 'correo': 'a.concha06@ufromail.cl'}\n",
      "{'primer_nombre': 'LUIS', 'primer_apellido': 'GUERRERO', 'correo': 'l.guerrero01@ufromail.cl'}\n",
      "{'primer_nombre': 'DANIEL', 'primer_apellido': 'KOH', 'correo': 'd.koh01@ufromail.cl'}\n",
      "{'primer_nombre': 'GERMÁN', 'primer_apellido': 'LAGOS', 'correo': 'g.lagos05@ufromail.cl'}\n",
      "{'primer_nombre': 'JAVIER', 'primer_apellido': 'LUENGO', 'correo': 'j.luengo02@ufromail.cl'}\n",
      "{'primer_nombre': 'ALAN', 'primer_apellido': 'LÓPEZ', 'correo': 'a.lopez07@ufromail.cl'}\n",
      "{'primer_nombre': 'JOSÉ', 'primer_apellido': 'MATUS', 'correo': 'j.matus06@ufromail.cl'}\n",
      "{'primer_nombre': 'NICOLÁS', 'primer_apellido': 'MONTECINOS', 'correo': 'n.montecinos01@ufromail.cl'}\n",
      "{'primer_nombre': 'IGNACIO', 'primer_apellido': 'MORALES', 'correo': 'i.morales04@ufromail.cl'}\n",
      "{'primer_nombre': 'STEVEN', 'primer_apellido': 'NAHUELPÁN', 'correo': 's.nahuelpan01@ufromail.cl'}\n",
      "{'primer_nombre': 'JAVIERA', 'primer_apellido': 'OLAVE', 'correo': 'j.olave01@ufromail.cl'}\n",
      "{'primer_nombre': 'SEBASTIÁN', 'primer_apellido': 'OLIVA', 'correo': 's.oliva01@ufromail.cl'}\n",
      "{'primer_nombre': 'MANLET', 'primer_apellido': 'SÁNCHEZ', 'correo': 'm.sanchez10@ufromail.cl'}\n",
      "{'primer_nombre': 'MILLARAY', 'primer_apellido': 'TRANGOL', 'correo': 'm.trangol01@ufromail.cl'}\n",
      "{'primer_nombre': 'CAROLINA', 'primer_apellido': 'VALLEJOS', 'correo': 'c.vallejos05@ufromail.cl'}\n"
     ]
    }
   ],
   "source": [
    "LISTA_DE_ESTUDIANTES.remove({'primer_nombre': 'WALTER', 'primer_apellido': 'GOMEZ', 'email': 'walter.gomez@ufrontera.cl'})\n",
    "#    {'nombre': 'PROFE', 'primer_apellido': 'GOMEZ', 'email': 'walter.gomez@ufrontera.cl'}\n",
    "#    \n",
    "LISTA_DE_ESTUDIANTES.remove({'primer_nombre': 'PROFE', 'primer_apellido': 'GOMEZ', 'email': 'walter.gomez@ufrontera.cl'})\n",
    "for person in alfabetiza_nombres(LISTA_DE_ESTUDIANTES):\n",
    "    print(person)"
   ]
  },
  {
   "cell_type": "code",
   "execution_count": null,
   "metadata": {},
   "outputs": [],
   "source": []
  },
  {
   "cell_type": "markdown",
   "metadata": {},
   "source": [
    "## Ejercicio 7: \n",
    "\n",
    "Crear una función que reciba una lista de strings y entregue el string de la lista que tiene el mayor número de letras repetidas. \n",
    "Por ejemplo: max_letras_repetidas(['tengo', 'acceso', 'a', 'mis', ''cuentas']) = 'acceso'"
   ]
  },
  {
   "cell_type": "code",
   "execution_count": 82,
   "metadata": {},
   "outputs": [
    {
     "name": "stdout",
     "output_type": "stream",
     "text": [
      "Counter({'b': 5, 'a': 3, 's': 2, 'c': 1})\n",
      "[('b', 5), ('a', 3), ('s', 2), ('c', 1)]\n",
      "[('b', 5), ('a', 3)]\n"
     ]
    },
    {
     "data": {
      "text/plain": [
       "5"
      ]
     },
     "execution_count": 82,
     "metadata": {},
     "output_type": "execute_result"
    }
   ],
   "source": [
    "## Clase Counter: Subclase de dict definida en la libreria collections que permite contar facilmente\n",
    "from collections import Counter\n",
    "\n",
    "print(Counter('absabsabbbc'))\n",
    "\n",
    "# Puede entregar información sobre el orden de ocurrencia\n",
    "\n",
    "print(Counter('absabsabbbc').most_common())\n",
    "\n",
    "print(Counter('absabsabbbc').most_common(2))\n",
    "\n",
    "def contador_de_letras_mas_repetidas(palabra):\n",
    "    return Counter(palabra).most_common(1)[0][1]\n",
    "\n",
    "contador_de_letras_mas_repetidas('absabsabbbc')"
   ]
  },
  {
   "cell_type": "code",
   "execution_count": 58,
   "metadata": {},
   "outputs": [],
   "source": [
    "#Solucion\n",
    "from collections import Counter\n",
    "argumento = ['tengo', 'acceso', 'a', 'mis', 'cuentas']\n",
    "    \n",
    "\n",
    "\n",
    "\n",
    "   \n"
   ]
  },
  {
   "cell_type": "markdown",
   "metadata": {},
   "source": [
    "## Ejercicio 8: \n",
    "\n",
    "Tenemos la lista de estudiantes del curso con su número de matricula. Escriba una función que reciba la lista y la imprima ordenada por el número de matrícula con el siguiente formato:\n",
    "\n",
    "Gomez     Walter    19283984\n",
    "\n",
    "Villegas  Leonardo  83798039\n",
    "\n",
    "O sea: nombre y apellidos con 10 caracteres, el número de matricula con 4 reducido a 4 caracteres"
   ]
  },
  {
   "cell_type": "code",
   "execution_count": null,
   "metadata": {},
   "outputs": [],
   "source": [
    "NUMEROS_MATRICULA=[\n",
    "    ('CAMILO', 'CALFUCOY',20883762120),\n",
    "    ('DANILO','MILLAR',19306297020),\n",
    "    ('CAMILO','VILLEGAS','19622341K18'),\n",
    "    ('FERNANDA','GARRIDO',20355201718),\n",
    "    ('FELIPE','POOLEY',19810509018),\n",
    "    ('CLAUDIO','BOLIVAR',19810527917),\n",
    "    ('JOEL','TAPIA',19369355515),\n",
    "    ]\n",
    "    "
   ]
  }
 ],
 "metadata": {
  "kernelspec": {
   "display_name": "Python 3",
   "language": "python",
   "name": "python3"
  },
  "language_info": {
   "codemirror_mode": {
    "name": "ipython",
    "version": 3
   },
   "file_extension": ".py",
   "mimetype": "text/x-python",
   "name": "python",
   "nbconvert_exporter": "python",
   "pygments_lexer": "ipython3",
   "version": "3.11.7"
  }
 },
 "nbformat": 4,
 "nbformat_minor": 4
}
