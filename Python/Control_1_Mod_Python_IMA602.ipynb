{
 "cells": [
  {
   "cell_type": "markdown",
   "metadata": {},
   "source": [
    "# Herramientas básicas para el Análisis de Datos (IMA602)\n",
    "\n",
    "## Segundo Semestre 2024\n",
    "\n",
    "## Control 1 - Módulo de Python\n"
   ]
  },
  {
   "cell_type": "markdown",
   "metadata": {},
   "source": [
    "Para este control, a cada estudiante se le asignarán aleatoriamente dos ejercicios\n",
    "de la siguiente lista de cinco ejercicios. El estudiante debe insertar los códigos \n",
    "que resuelves sus ejercicios asignados en dos celdas separadas de este notebook. \n",
    "\n",
    "Los ejercicios se asignan aleatoriamente utilizando una semilla propia de cada \n",
    "estudiante. Para esto, a continuación se presenta un código que debe ser ejecutado.\n",
    "El código utiliza su semilla propia y entrega los ejercicios debe resolver en el control."
   ]
  },
  {
   "cell_type": "code",
   "execution_count": 1,
   "metadata": {},
   "outputs": [
    {
     "name": "stdout",
     "output_type": "stream",
     "text": [
      "Mis ejercicios asignados en este Control son: \t [1, 3]\n"
     ]
    }
   ],
   "source": [
    "import random\n",
    "\n",
    "##\n",
    "## Su semilla propia es el número formado por los últimos cuatro dígitos de su matrícula (cambiando k por 0 si se requiere)\n",
    "##\n",
    "\n",
    "mi_semilla_asignada = 9821\n",
    "random.seed(mi_semilla_asignada)\n",
    "ejercicios = list(range(1,5))\n",
    "asignados = list(random.sample(ejercicios,k=2))\n",
    "asignados.sort()\n",
    "print(\"Mis ejercicios asignados en este Control son: \\t\",asignados)"
   ]
  },
  {
   "cell_type": "markdown",
   "metadata": {},
   "source": [
    "# LISTA DE EJERCICIOS\n",
    "\n",
    "1. Modifique el programa  de adivinar números (clase Ejercicios 01 - Ejercicio 1) para que el usuario solo tenga 3 intentos. Al tercer el intento fallido el programa debe indicar que no pudo adivinar y termina.\n",
    "\n",
    "2. Modifique su programa de suma  (clase Ejercicios 01 - Ejercicio 2) para que reciba dos argumentos: Una lista de números (a sumar) y otro número (de partida). De modo que, por ejemplo: mysum([2,3,4],1) --> 10.\n",
    "\n",
    "3. Escriba una función que reciba una lista de números y devuelva el promedio.\n",
    "\n",
    "4. Implemente una función que reciba una lista de palabras (strings) y entregue 3 números enteros: el largo de la palabra más corta, el largo de la palabra más larga y el promedio del largo de las palabras.\n",
    "\n",
    "5. Cree una función que reciba una lista de objetos Python y sume los objetos que son números enteros, o pueden convertirse en números enteros, ignorando los otros objetos.\n"
   ]
  },
  {
   "cell_type": "code",
   "execution_count": 16,
   "metadata": {},
   "outputs": [
    {
     "name": "stdout",
     "output_type": "stream",
     "text": [
      "23 es muy alto\n",
      "34 es muy alto\n",
      "33 es muy alto\n",
      "Has Perdido\n"
     ]
    }
   ],
   "source": [
    "# Solución primer ejercicio asignado\n",
    "def adivinar():\n",
    "    #Genera un número random dentro del intevalo [0,100]\n",
    "    numero=random.randint(0,100)\n",
    "\n",
    "    #Número de intentos \n",
    "    n_intento=3\n",
    "    while True:\n",
    "\n",
    "        #Se realiza la función mientras n_intento se mayor que 0\n",
    "        if n_intento>0:\n",
    "\n",
    "            #Pide un número por consola   \n",
    "            intento=int(input('Escriba su intento: '))\n",
    "\n",
    "            #Si el numero es correcto\n",
    "            if intento == numero:\n",
    "                print(f'{intento} es correcto!')\n",
    "                break\n",
    "\n",
    "            #Si el numero es menor\n",
    "            if intento < numero:\n",
    "                print(f'{intento} es muy bajo')\n",
    "                n_intento-=1\n",
    "\n",
    "            #Si el numero es mayor  \n",
    "            else:\n",
    "                print(f'{intento} es muy alto')\n",
    "                n_intento-=1\n",
    "        \n",
    "        #Si el número de intentos es 0        \n",
    "        else:\n",
    "            print('Has Perdido')\n",
    "            break\n",
    "       \n",
    "        \n",
    "adivinar()"
   ]
  },
  {
   "cell_type": "code",
   "execution_count": null,
   "metadata": {},
   "outputs": [],
   "source": []
  },
  {
   "cell_type": "code",
   "execution_count": 14,
   "metadata": {},
   "outputs": [
    {
     "data": {
      "text/plain": [
       "'El promedio es: 5.50'"
      ]
     },
     "execution_count": 14,
     "metadata": {},
     "output_type": "execute_result"
    }
   ],
   "source": [
    "# Solución segundo ejercicio asignado\n",
    "\n",
    "def calculo_promedio(numeros):\n",
    "    #suma cada uno de los numeros dentro de la lista\n",
    "    total = sum(numeros)\n",
    "\n",
    "    #Calcula la cantidad de elementos dentro de la lista\n",
    "    cantidad_elementos = len(numeros)\n",
    "\n",
    "    #Calcula el promedio de la suma de la lista\n",
    "    promedio = total / cantidad_elementos\n",
    "\n",
    "    #Retorna el promedio\n",
    "    return f\"El promedio es: {promedio:.2f}\"\n",
    "calculo_promedio([1,2,3,4,5,6,7,8,9,10])"
   ]
  }
 ],
 "metadata": {
  "kernelspec": {
   "display_name": "Python 3",
   "language": "python",
   "name": "python3"
  },
  "language_info": {
   "codemirror_mode": {
    "name": "ipython",
    "version": 3
   },
   "file_extension": ".py",
   "mimetype": "text/x-python",
   "name": "python",
   "nbconvert_exporter": "python",
   "pygments_lexer": "ipython3",
   "version": "3.11.7"
  }
 },
 "nbformat": 4,
 "nbformat_minor": 4
}
