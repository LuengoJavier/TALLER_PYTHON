{
 "cells": [
  {
   "cell_type": "markdown",
   "metadata": {},
   "source": [
    "# Herramientas básicas para el Análisis de Datos (IMA602)\n",
    "\n",
    "## Ejercicios sobre trabajo con archivos.\n"
   ]
  },
  {
   "cell_type": "markdown",
   "metadata": {},
   "source": [
    "## Ejercicio 1: \n",
    "\n",
    "Cree una función que extrae la última línea de un archivo. La función recibe el nombre del archivo como argumento y entrega la última linea en pantalla."
   ]
  },
  {
   "cell_type": "code",
   "execution_count": 1,
   "metadata": {},
   "outputs": [
    {
     "name": "stdout",
     "output_type": "stream",
     "text": [
      "quinta y Ãºltima linea de archivo de prueba\n",
      "\n"
     ]
    }
   ],
   "source": [
    "# Solución\n",
    "def extrae_ultima_linea(archivo):\n",
    "    linea_final=''\n",
    "    for lineal_actual in open(archivo):\n",
    "        linea_final=lineal_actual\n",
    "    return linea_final\n",
    "archivo = 'archivo_de_prueba.txt'\n",
    "print(extrae_ultima_linea(archivo))\n"
   ]
  },
  {
   "cell_type": "markdown",
   "metadata": {},
   "source": [
    "## Ejercicio 2: \n",
    "\n",
    "Crear una función que reciba un archivo de password de tipo unix (/etc/passwd) y entregue un diccionario cuyas claves sean los nombres de usuario y los valores los ID de los usuarios. La función debe crear el diccionario utilizando compresión. (Obs: En los archivos /etc/passwd los nombres de usuarios ocupan el primer campo, con índice 0 y el ID el tercer campo, con índice 2)."
   ]
  },
  {
   "cell_type": "code",
   "execution_count": 13,
   "metadata": {},
   "outputs": [
    {
     "name": "stdout",
     "output_type": "stream",
     "text": [
      "{'nobody': -2, 'root': 0, 'daemon': 1, '_uucp': 4, '_taskgated': 13, '_networkd': 24, '_installassistant': 25, '_lp': 26, '_postfix': 27, '_scsd': 31, '_ces': 32, '_mcxalr': 54, '_appleevents': 55, '_geod': 56, '_serialnumberd': 58, '_devdocs': 59, '_sandbox': 60, '_mdnsresponder': 65, '_ard': 67, '_www': 70, '_eppc': 71, '_cvs': 72, '_svn': 73, '_mysql': 74, '_sshd': 75, '_qtss': 76, '_cyrus': 77, '_mailman': 78, '_appserver': 79, '_clamav': 82, '_amavisd': 83, '_jabber': 84, '_appowner': 87, '_windowserver': 88, '_spotlight': 89, '_tokend': 91, '_securityagent': 92, '_calendar': 93, '_teamsserver': 94, '_update_sharing': 95, '_installer': 96, '_atsserver': 97, '_ftp': 98, '_unknown': 99, '_softwareupdate': 200, '_coreaudiod': 202, '_screensaver': 203, '_locationd': 205, '_trustevaluationagent': 208, '_timezone': 210, '_lda': 211, '_cvmsroot': 212, '_usbmuxd': 213, '_dovecot': 214, '_dpaudio': 215, '_postgres': 216, '_krbtgt': 217, '_kadmin_admin': 218, '_kadmin_changepw': 219, '_devicemgr': 220, '_webauthserver': 221, '_netbios': 222, '_warmd': 224, '_dovenull': 227, '_netstatistics': 228, '_avbdeviced': 229, '_krb_krbtgt': 230, '_krb_kadmin': 231, '_krb_changepw': 232, '_krb_kerberos': 233, '_krb_anonymous': 234, '_assetcache': 235, '_coremediaiod': 236, '_xcsbuildagent': 237, '_xcscredserver': 238, '_launchservicesd': 239}\n",
      "{'nobody': -2, 'root': 0, 'daemon': 1, '_uucp': 4, '_taskgated': 13, '_networkd': 24, '_installassistant': 25, '_lp': 26, '_postfix': 27, '_scsd': 31, '_ces': 32, '_mcxalr': 54, '_appleevents': 55, '_geod': 56, '_serialnumberd': 58, '_devdocs': 59, '_sandbox': 60, '_mdnsresponder': 65, '_ard': 67, '_www': 70, '_eppc': 71, '_cvs': 72, '_svn': 73, '_mysql': 74, '_sshd': 75, '_qtss': 76, '_cyrus': 77, '_mailman': 78, '_appserver': 79, '_clamav': 82, '_amavisd': 83, '_jabber': 84, '_appowner': 87, '_windowserver': 88, '_spotlight': 89, '_tokend': 91, '_securityagent': 92, '_calendar': 93, '_teamsserver': 94, '_update_sharing': 95, '_installer': 96, '_atsserver': 97, '_ftp': 98, '_unknown': 99, '_softwareupdate': 200, '_coreaudiod': 202, '_screensaver': 203, '_locationd': 205, '_trustevaluationagent': 208, '_timezone': 210, '_lda': 211, '_cvmsroot': 212, '_usbmuxd': 213, '_dovecot': 214, '_dpaudio': 215, '_postgres': 216, '_krbtgt': 217, '_kadmin_admin': 218, '_kadmin_changepw': 219, '_devicemgr': 220, '_webauthserver': 221, '_netbios': 222, '_warmd': 224, '_dovenull': 227, '_netstatistics': 228, '_avbdeviced': 229, '_krb_krbtgt': 230, '_krb_kadmin': 231, '_krb_changepw': 232, '_krb_kerberos': 233, '_krb_anonymous': 234, '_assetcache': 235, '_coremediaiod': 236, '_xcsbuildagent': 237, '_xcscredserver': 238, '_launchservicesd': 239}\n",
      "True\n"
     ]
    }
   ],
   "source": [
    "# Solución\n",
    " \n",
    "def passwd_2_dict(nombre_archivo):\n",
    "    usuarios={}\n",
    "    with open(nombre_archivo) as passwd:\n",
    "        for linea in passwd:\n",
    "            if not linea.startswith(('#', '\\n')):\n",
    "                inf_usuario = linea.split(':')\n",
    "                usuarios[inf_usuario[0]] = int(inf_usuario[2])\n",
    "    return usuarios\n",
    "\n",
    "def passwd_2_dict_full_compresion(nombre_archivo):\n",
    "    with open(nombre_archivo) as passwd:\n",
    "        return {linea.split(':')[0] : int(linea.split(':')[2]) for linea in passwd if not linea.startswith(('#', '\\n'))}\n",
    "\n",
    "\n",
    "dict_resultado=passwd_2_dict('Datos_Clase_Ejercicios_04/passwd_file.txt')\n",
    "dict_resultado_compresion=passwd_2_dict_full_compresion('Datos_Clase_Ejercicios_04/passwd_file.txt')\n",
    "print(dict_resultado)\n",
    "print(dict_resultado_compresion)\n",
    "print(dict_resultado_compresion==dict_resultado)\n"
   ]
  },
  {
   "cell_type": "markdown",
   "metadata": {},
   "source": [
    "## Ejercicio 3: \n",
    "\n",
    "Cree una función resumen_de_archivo_texto() que recibe el nombre de un archivo de texto e imprime cuatro lineas, conteniendo la siguiente información:\n",
    "- Cantidad de caracteres(incluyendo espacios en blanco)\n",
    "- Cantidad de palabras (separadas por espacios en blanco)\n",
    "- Cantidad de lineas \n",
    "- Cantidad de palabras distintas (difenrenciando mayúsculas, o sea 'No' es diferente de 'no')"
   ]
  },
  {
   "cell_type": "code",
   "execution_count": 16,
   "metadata": {},
   "outputs": [],
   "source": [
    "# Solución\n",
    "\n",
    "def resumen_de_archivo_texto(archivo):\n",
    "    contador={'caracteres':0, 'palabras':0, 'lineas':0}\n",
    "    palabras_diferentes = set()\n",
    "    for linea in open(archivo):\n",
    "        contador['caracteres'] += len(linea)\n",
    "        contador['palabras'] += len(linea.split())\n",
    "        contador['lineas'] += 1\n",
    "        palabras_diferentes.update(linea.split())\n",
    "    contador['nro_palabras_dif']=len(palabras_diferentes)\n",
    "    for key, value in contador.items():\n",
    "        print(f'{key}: {value}')\n",
    "\n",
    "#resumen_de_archivo_texto('Texto_de_prueba2.txt')"
   ]
  }
 ],
 "metadata": {
  "kernelspec": {
   "display_name": "Python 3",
   "language": "python",
   "name": "python3"
  },
  "language_info": {
   "codemirror_mode": {
    "name": "ipython",
    "version": 3
   },
   "file_extension": ".py",
   "mimetype": "text/x-python",
   "name": "python",
   "nbconvert_exporter": "python",
   "pygments_lexer": "ipython3",
   "version": "3.11.7"
  }
 },
 "nbformat": 4,
 "nbformat_minor": 4
}
