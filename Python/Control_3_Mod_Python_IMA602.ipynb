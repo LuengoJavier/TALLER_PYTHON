{
 "cells": [
  {
   "cell_type": "markdown",
   "metadata": {},
   "source": [
    "# Herramientas básicas para el Análisis de Datos (IMA602)\n",
    "\n",
    "## Segundo Semestre 2024\n",
    "\n",
    "## Control 3 - Módulo de Python\n"
   ]
  },
  {
   "cell_type": "markdown",
   "metadata": {},
   "source": [
    "Para este control, a cada estudiante se le asignarán aleatoriamente dos ejercicios\n",
    "de la siguiente lista de cinco ejercicios. El estudiante debe insertar los códigos \n",
    "que resuelven sus ejercicios asignados en dos celdas separadas de este notebook. \n",
    "\n",
    "Los ejercicios se asignan aleatoriamente utilizando una semilla propia de cada \n",
    "estudiante. Para esto, a continuación se presenta un código que debe ser ejecutado.\n",
    "El código utiliza su semilla propia y entrega los ejercicios debe resolver en el control."
   ]
  },
  {
   "cell_type": "code",
   "execution_count": 2,
   "metadata": {},
   "outputs": [
    {
     "name": "stdout",
     "output_type": "stream",
     "text": [
      "Mis ejercicios asignados en este Control son: \t [1, 3]\n"
     ]
    }
   ],
   "source": [
    "import random\n",
    "\n",
    "##\n",
    "## Su semilla propia ha sido asignada en la plataforma.\n",
    "##\n",
    "\n",
    "mi_semilla_asignada = 57\n",
    "random.seed(mi_semilla_asignada)\n",
    "ejercicios = list(range(1,6))\n",
    "asignados = list(random.sample(ejercicios,k=2))\n",
    "asignados.sort()\n",
    "print(\"Mis ejercicios asignados en este Control son: \\t\",asignados)"
   ]
  },
  {
   "cell_type": "markdown",
   "metadata": {},
   "source": [
    "# LISTA DE EJERCICIOS\n",
    "\n",
    "1. Cree un diccionario en el cual se tengan las claves como nombre de usuarios y los valores como passwords, ambos representados como string. Escriba una función login. El usuario debe ingresar su nombre de usuario y password, y el sistema le indica si ha logrado acceder, o sino le rechaza el acceso.\n",
    "\n",
    "2. Defina un diccionario cuyas claves son fechas (representadas como string) de la semana pasada y los valores son las temperaturas. Escriba una función que le solicite una fecha al usuario, y después imprima la temperatura de ese día, el posterior y anterior (si están disponibles).\n",
    "\n",
    "3. Escriba una función que lea un archivo de texto y utiliza un diccionario para contabilizar cuántas palabras tiene el archivo de cada longitud. Por ejemplo: cuántas palabras de tres letras, cuántas palabras de cuatro letras, etc. La función debe al final mostrar los resultados en pantalla.\n",
    "\n",
    "4. Escriba una función *combina_dicc()* que reciba un número arbitario de diccionarios y devuelva un diccionario que los combine a todos. Si una clave aparece en más de un diccionario, el valor que se le asigna a esa clave en el diccionario de salida debe ser el que proviene del último diccionario que contiene la clave.  \n",
    "\n",
    "    Ejemplo:  \n",
    "    e1={'a':1, 'b':2, 'c':3}  \n",
    "    e2={'a':1, 'b':3, 'c':4}  \n",
    "    e3={'a':1, 'b':2, 'd':3}\n",
    "\n",
    "    combina_dicc(e1,e2,e3)={'a':1, 'b':2, 'c':4, 'd':3}\n",
    "\n",
    "\n",
    "5. Implemente una función que obtiene los nombres de todos los archivos del directorio actual (usar la función os.listdir)  e imprime cuáles son las extensiones (sufijo que sigue al último caracter '.')  de archivos que aparecen en el directorio.\n"
   ]
  },
  {
   "cell_type": "code",
   "execution_count": 4,
   "metadata": {},
   "outputs": [
    {
     "data": {
      "text/plain": [
       "'Acceso correcto. ¡Bienvenido!'"
      ]
     },
     "execution_count": 4,
     "metadata": {},
     "output_type": "execute_result"
    }
   ],
   "source": [
    "# Solución primer ejercicio asignado\n",
    "\n",
    "#Diccionario de usuarios y contraseñas\n",
    "usuarios = {\"hola\": \"123\",\n",
    "        \"admin\": \"admin\",\n",
    "        \"cisco\": \"cisco123\"}\n",
    "#Función login la cual compara el usuario y contraseña escrito por consola y lo compara con los usuarios registrados en el diccionario\n",
    "def login(usuarios, usuario, contraseña):\n",
    "    #Si el usuario ingresado coincide con un usuario del diccionario\n",
    "    if usuario in usuarios:\n",
    "        #Compara que la contraseña ingresada corresponda al usuario según el diccionario\n",
    "        if usuarios[usuario] == contraseña:\n",
    "            return \"Acceso correcto\"\n",
    "        #Si no coincide, entrega el siguiente mensaje\n",
    "        else:\n",
    "            return \"Contraseña incorrecta\"\n",
    "    #Si no esta registrado el usuario, arroja el mensaje  \n",
    "    else:\n",
    "        return \"Usuario no registrado.\"\n",
    "#Ejecución   \n",
    "nombre = input(\"Ingresa tu nombre de usuario: \")\n",
    "contraseña = input(\"Ingresa tu contraseña: \")\n",
    "login(usuarios, nombre, contraseña)\n"
   ]
  },
  {
   "cell_type": "code",
   "execution_count": 39,
   "metadata": {},
   "outputs": [
    {
     "name": "stdout",
     "output_type": "stream",
     "text": [
      "Conteo por longitud:\n",
      "Palabras de 2 letras: 90\n",
      "Palabras de 3 letras: 15\n"
     ]
    }
   ],
   "source": [
    "# Solución segundo ejercicio asignado\n",
    "\n",
    "#Función que almacena en un diccionario el largo de las palabras de un texto y la cantida de palabras de esa longitud\n",
    "def contar_palabras_por_longitud(archivo):\n",
    "    #Abre el archivo\n",
    "    with open(archivo, 'r', encoding='utf-8') as file:\n",
    "        #Lee el contenido del archivo\n",
    "        palabras = file.read().split()\n",
    "        #Crea el diccionario donde se alamcenará\n",
    "        longitud_palabra = {}\n",
    "        #Bucle que recorre las palabras una por una almacenando su longitud\n",
    "        for palabra in palabras:\n",
    "            longitud = len(palabra)\n",
    "            #Si las longitudes coiciden se suma al contador\n",
    "            if longitud in longitud_palabra:\n",
    "                longitud_palabra[longitud] += 1 \n",
    "            else:\n",
    "                longitud_palabra[longitud] = 1\n",
    "\n",
    "        print(\"Conteo por longitud:\")\n",
    "        #Imprimimos el resultado.\n",
    "        for longitud, conteo in sorted(longitud_palabra.items()):\n",
    "            print(f\"Palabras de {longitud} letras: {conteo}\")\n",
    "#Ejecución\n",
    "archivo = 'archivo_texto.txt'\n",
    "contar_palabras_por_longitud(archivo)\n"
   ]
  }
 ],
 "metadata": {
  "kernelspec": {
   "display_name": "Python 3",
   "language": "python",
   "name": "python3"
  },
  "language_info": {
   "codemirror_mode": {
    "name": "ipython",
    "version": 3
   },
   "file_extension": ".py",
   "mimetype": "text/x-python",
   "name": "python",
   "nbconvert_exporter": "python",
   "pygments_lexer": "ipython3",
   "version": "3.11.7"
  }
 },
 "nbformat": 4,
 "nbformat_minor": 4
}
