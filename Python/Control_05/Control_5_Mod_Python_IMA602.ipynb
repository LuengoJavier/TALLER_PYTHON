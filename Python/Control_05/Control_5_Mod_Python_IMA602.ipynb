{
 "cells": [
  {
   "cell_type": "markdown",
   "metadata": {},
   "source": [
    "# Herramientas básicas para el Análisis de Datos (IMA602)\n",
    "\n",
    "## Segundo Semestre 2024\n",
    "\n",
    "## Control 5 - Módulo de Python\n"
   ]
  },
  {
   "cell_type": "markdown",
   "metadata": {},
   "source": [
    "Para este control, a cada estudiante se le asignarán aleatoriamente dos ejercicios\n",
    "de la siguiente lista de cinco ejercicios. El estudiante debe insertar los códigos \n",
    "que resuelven sus ejercicios asignados en dos celdas separadas de este notebook. \n",
    "\n",
    "Los ejercicios se asignan aleatoriamente utilizando una semilla propia de cada \n",
    "estudiante. Para esto, a continuación se presenta un código que debe ser ejecutado.\n",
    "El código utiliza su semilla propia y entrega los ejercicios debe resolver en el control."
   ]
  },
  {
   "cell_type": "code",
   "execution_count": 13,
   "metadata": {},
   "outputs": [
    {
     "name": "stdout",
     "output_type": "stream",
     "text": [
      "Mis ejercicios asignados en este Control son: \t [1, 2]\n"
     ]
    }
   ],
   "source": [
    "import random\n",
    "\n",
    "##\n",
    "## Su semilla propia ha sido asignada en la plataforma.\n",
    "##\n",
    "\n",
    "mi_semilla_asignada =  70\n",
    "random.seed(mi_semilla_asignada)\n",
    "ejercicios = list(range(1,5))\n",
    "asignados = list(random.sample(ejercicios,k=2))\n",
    "asignados.sort()\n",
    "print(\"Mis ejercicios asignados en este Control son: \\t\",asignados)"
   ]
  },
  {
   "cell_type": "markdown",
   "metadata": {},
   "source": [
    "# LISTA DE EJERCICIOS \n",
    "\n",
    "1. Cree una función *aplica_a_cada()* que recibe dos argumentos: una función que recibe un único argumento, y un iterable. La función *aplica_a_cada()* debe devolver una lista cuyos valores son el resultado de aplicar la función del primer argumento a cada elemento del iterable. \n",
    "\n",
    "    Ejemplo:  \n",
    "    def mitad(x):  \n",
    "    &nbsp;&nbsp;&nbsp;&nbsp;&nbsp; return x/2  \n",
    "    calc(mitad, [4,6,8]) --> [2,3,4]  \n",
    "\n",
    "6. Escriba  una función *crea_chequeador_passwords()* que cree funciones chequeadoras de los requerimientos de password. La función debe recibir cuatro parámetros enteros: min_mayusculas, min_minusculas, min_puntuacion, min_digitos. La función creada debe recibir un \n",
    "string y entregar una valor booleano indicando si el string es un password aceptable.  \n",
    "\n",
    "    Ejemplos:  \n",
    "    check_1=crea_chequeador_passwords(0,3,2,1)  \n",
    "    check_1=crea_chequeador_passwords(0,1,2,3)  \n",
    "      \n",
    "    check_1('abc!.4')--> True  \n",
    "    check_1('ab!.4')--> False  \n",
    "      \n",
    "    check_2('abc!.4')--> False  \n",
    "    check_1('aA!.456')--> True\n",
    "\n",
    "3. Cree una función *muestra_lineas()* que recibe un archivo texto, y devuelve una lista que contiene como elementos las lineas que contienen al menos una vocal y mas de 20 caracteres\n",
    "\n",
    "4. Cree una función *cuenta_vocales()* que recibe una cadena que contiene varias palabras separadas por espacio. La función debe devolver un diccionario donde las claves son las palabras y el valor el número de vocales en la clave.  \n",
    "\n",
    "    Ejemplo:  \n",
    "    cuenta_vocales('Es demasiado divertido') --> {'Es': 1, 'demasiado': 5, 'divertido':4}\n",
    "\n",
    "5. Escribir una función que recibe el nombre de un directorio (como string) y entrega un diccionario. El diccionario debe tener como claves los nombres de los archivos en el directorio y los valores deben ser el tamaño de los archivos. (Hint: Utilice os.listdir (o glob.glob) para obtener los archivos filtrando solo los archivos regulares con métodos de os.path. Para determinar el tamaño de los archivos utilice os.stat)"
   ]
  },
  {
   "cell_type": "code",
   "execution_count": 32,
   "metadata": {},
   "outputs": [
    {
     "data": {
      "text/plain": [
       "[2.0, 3.0, 4.0]"
      ]
     },
     "execution_count": 32,
     "metadata": {},
     "output_type": "execute_result"
    }
   ],
   "source": [
    "# Solución primer ejercicio asignado\n",
    "\n",
    "# Función que recibe una función cualquiera y una lista iterable\n",
    "def aplica_a_cada(funcion,iterable):\n",
    "    # Retorna la mitad de cada iterable en una lista\n",
    "    return [funcion(valor) for valor in iterable]\n",
    "#Función que recibe un valor y devuelve la mitad de este último\n",
    "def mitad(x):\n",
    "    return x/2\n",
    "aplica_a_cada(mitad,[4,6,8])"
   ]
  },
  {
   "cell_type": "code",
   "execution_count": 31,
   "metadata": {},
   "outputs": [
    {
     "name": "stdout",
     "output_type": "stream",
     "text": [
      "True\n",
      "False\n",
      "False\n",
      "True\n"
     ]
    }
   ],
   "source": [
    "# Solución segundo ejercicio asignado\n",
    "import string\n",
    "#Función que crea los verificadores de contraseña recibe 4 números enteros que indican el minimo que debe cumplir cada parametro\n",
    "def crea_chequeador_passwords(min_mayusculas, min_minusculas, min_puntuacion, min_digitos):\n",
    "    # Verifica si la contraseña cumple lo pedido\n",
    "    def chequeador(password):\n",
    "        # Verifica si la contraseña cumple con los requisitos\n",
    "        mayusculas = sum(1 for letra in password if letra.isupper())\n",
    "        minusculas = sum(1 for letra in password if letra.islower())\n",
    "        puntuacion = sum(1 for letra in password if letra in string.punctuation)\n",
    "        digitos = sum(1 for letra in password if letra.isdigit())\n",
    "        # Retorna verdadero si se cumple o falso si no se cumple\n",
    "        return (mayusculas >= min_mayusculas and\n",
    "                minusculas >= min_minusculas and\n",
    "                puntuacion >= min_puntuacion and\n",
    "                digitos >= min_digitos)\n",
    "    return chequeador\n",
    "# Contraseñas de prueba\n",
    "check_1=crea_chequeador_passwords(0,3,2,1)  \n",
    "check_2=crea_chequeador_passwords(0,1,2,3)  \n",
    "# Se imprime si la contraseña es valida o no\n",
    "print(check_1('abc!.4'))   \n",
    "print(check_2('ab!.4'))   \n",
    "print(check_2('abc!.4'))\n",
    "print(check_1('aAaa!.456'))"
   ]
  }
 ],
 "metadata": {
  "kernelspec": {
   "display_name": "Python 3",
   "language": "python",
   "name": "python3"
  },
  "language_info": {
   "codemirror_mode": {
    "name": "ipython",
    "version": 3
   },
   "file_extension": ".py",
   "mimetype": "text/x-python",
   "name": "python",
   "nbconvert_exporter": "python",
   "pygments_lexer": "ipython3",
   "version": "3.11.7"
  }
 },
 "nbformat": 4,
 "nbformat_minor": 4
}
