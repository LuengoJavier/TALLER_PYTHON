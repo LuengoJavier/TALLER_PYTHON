{
 "cells": [
  {
   "cell_type": "markdown",
   "metadata": {},
   "source": [
    "# Herramientas básicas para el Análisis de Datos (IMA602)\n",
    "\n",
    "## Segundo Semestre 2024\n",
    "\n",
    "## Control 2 - Módulo de Python\n"
   ]
  },
  {
   "cell_type": "markdown",
   "metadata": {},
   "source": [
    "Para este control, a cada estudiante se le asignarán aleatoriamente dos ejercicios\n",
    "de la siguiente lista de cinco ejercicios. El estudiante debe insertar los códigos \n",
    "que resuelven sus ejercicios asignados en dos celdas separadas de este notebook. \n",
    "\n",
    "Los ejercicios se asignan aleatoriamente utilizando una semilla propia de cada \n",
    "estudiante. Para esto, a continuación se presenta un código que debe ser ejecutado.\n",
    "El código utiliza su semilla propia y entrega los ejercicios debe resolver en el control."
   ]
  },
  {
   "cell_type": "code",
   "execution_count": 2,
   "metadata": {},
   "outputs": [
    {
     "name": "stdout",
     "output_type": "stream",
     "text": [
      "Mis ejercicios asignados en este Control son: \t [1, 4]\n"
     ]
    }
   ],
   "source": [
    "import random\n",
    "\n",
    "##\n",
    "## Su semilla propia ha sido asignada en la plataforma.\n",
    "##\n",
    "\n",
    "mi_semilla_asignada = 68\n",
    "random.seed(mi_semilla_asignada)\n",
    "ejercicios = list(range(1,6))\n",
    "asignados = list(random.sample(ejercicios,k=2))\n",
    "asignados.sort()\n",
    "print(\"Mis ejercicios asignados en este Control son: \\t\",asignados)"
   ]
  },
  {
   "cell_type": "markdown",
   "metadata": {},
   "source": [
    "# LISTA DE EJERCICIOS\n",
    "\n",
    "1. Modifique el traductor *ingles_secreto()* (Clase_Ejercicios_02 - Ejercicio 1) para que incorpore (por separado) cada una de las siguientes funcionalidades:\n",
    "\n",
    "    * Si la palabra es capitalizada (la primera letra es mayúscula y el resto no), entonces la traducción debe ser también capitalizada.\n",
    "    * Si la palabra termina con un signo de puntuación, el signo de puntuación debe ser llevado al final de la palabra traducida.\n",
    "\n",
    "2. Implemente una función basada en *ingles_secreto()* (Clase_Ejercicios_02 - Ejercicio 1) que traduzca una oración completa. \n",
    "\n",
    "    Por ejemplo: oracion_ingles_secreto('the sky is blue today') -> 'hetay kysay isway luebay odaytay' \n",
    "    \n",
    "\n",
    "3. Modifique el traductor *ubi_ingles()* (Clase_Ejercicios_02 - Ejercicio 2) para que trabaje correctamente las palabras capitalizadas, o sea si recibe una palabra capitalizada, debe entregar la traducción a ubi-ingles también capitalizada.\n",
    "\n",
    "\n",
    "4. Escriba una función *suma_par_impar()* que reciba una lista o tupla de números y retorna una lista que contiene dos elementos: la suma de los números de índice par y la suma de los números de índice impar. \n",
    "\n",
    "    Por ejemplo: suma_par_impar([10, 30, 50, 60, 70])->[130, 90]\n",
    "\n",
    "\n",
    "\n",
    "5. Escriba una función *suma_todo_mayor_que()* que funcione igual a *suma_todo()* (Clase_Ejercicios_02 - Ejercicio 5) excepto que recibe un argumento anterior a *items. Este argumento indica un valor mínimo que deben sobrepasar los elementos para ser incluidos en la lista. (Hint: La función *suma_todo_mayor_que()* puede asumir que todos los argumentos son del mismo tipo. Notar que las operaciones \">\" y \"<\" funcionan para muchos tipos diferentes, por ejemplo: string, list, tuples) \n",
    "\n",
    "    Ejemplo: suma_todo_mayor_que(5,6,3,6,4,8,1)->20=6+6+8. \n",
    "\n"
   ]
  },
  {
   "cell_type": "code",
   "execution_count": 69,
   "metadata": {},
   "outputs": [
    {
     "name": "stdout",
     "output_type": "stream",
     "text": [
      "Ppleaay\n",
      "Ineapplepay\n"
     ]
    }
   ],
   "source": [
    "# Solución primer ejercicio asignado\n",
    "def ingles_secreto(palabra):\n",
    "    if palabra.istitle():\n",
    "        if palabra[0] in 'aeiou':\n",
    "            traduccion = palabra + 'way'\n",
    "            cadena = traduccion.lower()\n",
    "            traduccion_final = cadena.capitalize()\n",
    "        else:\n",
    "            traduccion = palabra[1:]+palabra[0]+'ay'\n",
    "            cadena = traduccion.lower()\n",
    "            traduccion_final = cadena.capitalize()\n",
    "    else:\n",
    "        if palabra[0] in 'aeiou':\n",
    "            traduccion = palabra + 'way'\n",
    "            traduccion_final = traduccion\n",
    "        else:\n",
    "            traduccion = palabra[1:]+palabra[0]+'ay'\n",
    "            traduccion_final = traduccion\n",
    "    return traduccion_final\n",
    "print(ingles_secreto(\"Apple\"))\n",
    "print(ingles_secreto(\"Pineapple\"))"
   ]
  },
  {
   "cell_type": "code",
   "execution_count": 3,
   "metadata": {},
   "outputs": [
    {
     "data": {
      "text/plain": [
       "[130, 90]"
      ]
     },
     "execution_count": 3,
     "metadata": {},
     "output_type": "execute_result"
    }
   ],
   "source": [
    "# Solución segundo ejercicio asignado\n",
    "def suma_par_impar(numeros):\n",
    "\n",
    "    suma_pares = sum(numeros[i] for i in range(0, len(numeros), 2))\n",
    "\n",
    "    suma_impares = sum(numeros[i] for i in range(1, len(numeros), 2))\n",
    "    \n",
    "    return [suma_pares, suma_impares]\n",
    "suma_par_impar([10, 30, 50, 60, 70])\n"
   ]
  }
 ],
 "metadata": {
  "kernelspec": {
   "display_name": "Python 3",
   "language": "python",
   "name": "python3"
  },
  "language_info": {
   "codemirror_mode": {
    "name": "ipython",
    "version": 3
   },
   "file_extension": ".py",
   "mimetype": "text/x-python",
   "name": "python",
   "nbconvert_exporter": "python",
   "pygments_lexer": "ipython3",
   "version": "3.11.7"
  }
 },
 "nbformat": 4,
 "nbformat_minor": 4
}
