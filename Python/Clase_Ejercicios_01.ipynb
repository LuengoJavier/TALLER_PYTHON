{
 "cells": [
  {
   "cell_type": "markdown",
   "metadata": {},
   "source": [
    "# Herramientas básicas para el Análisis de Datos (IMA602)\n",
    "\n",
    "\n"
   ]
  },
  {
   "cell_type": "markdown",
   "metadata": {},
   "source": [
    "# Ejercicios sobre variables numéricas\n"
   ]
  },
  {
   "cell_type": "markdown",
   "metadata": {},
   "source": [
    "## Ejercicio 1: \n",
    "\n",
    "Escribir una función que no recibe argumentos e implementa el siguiente procedimiento:\n",
    "\n",
    "1- Genera un número aleatorio entre 0 y 100 (incluidos).\n",
    "\n",
    "2- Solicita al usuario que adivine el número generado.\n",
    "\n",
    "3- Entrega la respuesta (muy alto, muy bajo o correcto)\n",
    "\n",
    "4- Si es correcto termina, sino vuelve al paso 2.\n",
    "\n",
    "Obs: El programa termina solo con la respuesta correcta!"
   ]
  },
  {
   "cell_type": "code",
   "execution_count": 3,
   "metadata": {},
   "outputs": [
    {
     "data": {
      "text/plain": [
       "'Su número es mayor'"
      ]
     },
     "execution_count": 3,
     "metadata": {},
     "output_type": "execute_result"
    }
   ],
   "source": [
    "import random\n",
    "numero = random.randint(1,100)\n",
    "def adivinar():\n",
    "    while True:\n",
    "        adivina = int(input('Ingrese un número: '))\n",
    "        if numero == adivina:\n",
    "            return f'Es correcto, el número era: '+numero\n",
    "            break\n",
    "        if numero<adivina:\n",
    "            return f'Su número es mayor'\n",
    "        elif numero>adivina:\n",
    "            return f'Su número es menor'\n",
    "\n",
    "adivinar()\n"
   ]
  },
  {
   "cell_type": "code",
   "execution_count": 8,
   "metadata": {},
   "outputs": [
    {
     "name": "stdout",
     "output_type": "stream",
     "text": [
      "8\n",
      "Hello, Walter\n"
     ]
    }
   ],
   "source": [
    "## Interactuando con stdin\n",
    "import random \n",
    "\n",
    "number=random.randint(1,100)\n",
    "print(number)\n",
    "\n",
    "name=input('Enter your name: ')\n",
    "print(f'Hello, {name}')"
   ]
  },
  {
   "cell_type": "code",
   "execution_count": 1,
   "metadata": {},
   "outputs": [
    {
     "name": "stdout",
     "output_type": "stream",
     "text": [
      "Hola, Walter____ _____Gomez\n",
      "x*2= 200, and y.capitalize() is Abc\n"
     ]
    }
   ],
   "source": [
    "## Probando las opciones de salida\n",
    "\n",
    "name='world'\n",
    "first='Walter'\n",
    "last='Gomez'\n",
    "print(f'Hola, {first:_<10} {last:_>10}')\n",
    "\n",
    "x=100\n",
    "y='abc'\n",
    "print(f'x*2= {x*2}, and y.capitalize() is {y.capitalize()}')"
   ]
  },
  {
   "cell_type": "markdown",
   "metadata": {},
   "source": [
    "## Ejercicio 2: \n",
    "\n",
    "Escribir una función que sume una secuencia de números, pero en vez de recibir una secuencia de números como único parámetro, debe recibir  una secuencia arbitariamente larga de parámetros numéricos que debe sumar.\n",
    "\n",
    "\n",
    "Obs: No utilizar la función sum()."
   ]
  },
  {
   "cell_type": "code",
   "execution_count": null,
   "metadata": {},
   "outputs": [],
   "source": [
    "\n"
   ]
  },
  {
   "cell_type": "code",
   "execution_count": 15,
   "metadata": {},
   "outputs": [
    {
     "name": "stdout",
     "output_type": "stream",
     "text": [
      "6\n",
      "10\n"
     ]
    }
   ],
   "source": [
    "## A modo de comparación\n",
    "print(sum([1,2,3]))\n",
    "#print(sum(1,2,3))\n",
    "def sumarCadena(*numeros):\n",
    "    resultado=0\n",
    "    for numero in numeros:\n",
    "        resultado= resultado+numero\n",
    "    return resultado\n",
    "print(sumarCadena(*[1,2,3,4]))"
   ]
  },
  {
   "cell_type": "markdown",
   "metadata": {},
   "source": [
    "## Ejercicio 3: \n",
    "\n",
    "Escribir una función que pregunte por el tiempo requerido el usuario para recorrer 10km.\n",
    "\n",
    "* La función debe preguntar sucesivamente hasta recibir un Enter\n",
    "\n",
    "* Al recibir el Enter, la función debe  imprimir el valor promedio de los tiempos ingresados y terminar. "
   ]
  },
  {
   "cell_type": "code",
   "execution_count": 2,
   "metadata": {},
   "outputs": [
    {
     "name": "stdout",
     "output_type": "stream",
     "text": [
      "El tiempo promedio para recorrer 10 km es de aproximadamente 62.00 minutos.\n"
     ]
    }
   ],
   "source": [
    "def calcular_tiempo():\n",
    "    tiempos = []\n",
    "    while True:\n",
    "        try:\n",
    "            time = input(\"Ingresa el tiempo en minutos para recorrer 10 km (o presiona Enter para finalizar): \")\n",
    "            if not time:\n",
    "                break\n",
    "            tiempo = float(time)\n",
    "            tiempos.append(tiempo)\n",
    "        except ValueError:\n",
    "            print(\"Ingresa un valor numérico válido.\")\n",
    "    \n",
    "    if tiempos:\n",
    "        tiempo_promedio = sum(tiempos) / len(tiempos)\n",
    "        print(f\"El tiempo promedio para recorrer 10 km es de aproximadamente {tiempo_promedio:.2f} minutos.\")\n",
    "    else:\n",
    "        print(\"No se ingresaron tiempos válidos.\")\n",
    "calcular_tiempo()"
   ]
  },
  {
   "cell_type": "code",
   "execution_count": 20,
   "metadata": {},
   "outputs": [
    {
     "name": "stdout",
     "output_type": "stream",
     "text": [
      "No se ingresó un número válido\n"
     ]
    }
   ],
   "source": [
    "## Al solicitar valores flotantes es mejor utilizar captura de errores\n",
    "\n",
    "try: \n",
    "    n=float(input('Ingrese un número: '))\n",
    "    print(f'n= {n}')\n",
    "except ValueError as e:\n",
    "    print('No se ingresó un número válido')"
   ]
  },
  {
   "cell_type": "code",
   "execution_count": 32,
   "metadata": {},
   "outputs": [
    {
     "name": "stdout",
     "output_type": "stream",
     "text": [
      "0.7999999999999999\n",
      "0.80\n"
     ]
    }
   ],
   "source": [
    "## Devolviendo valores numéricos reales\n",
    "\n",
    "s=0.1+0.7\n",
    "print(s)\n",
    "print(f'{s:.2f}')\n"
   ]
  },
  {
   "cell_type": "markdown",
   "metadata": {},
   "source": [
    "## Ejercicio 4: \n",
    "\n",
    "Implemente una función *hex_salida()* que solicita un número hexadecimal (en base 16) al usuario  y entrega el decimal equivalente (base 10). Por ejemplo: *hex_salida(21)--> 33* (No utilizar la función hex o el prefijo 0x)\n"
   ]
  },
  {
   "cell_type": "code",
   "execution_count": 7,
   "metadata": {},
   "outputs": [
    {
     "name": "stdout",
     "output_type": "stream",
     "text": [
      "0: U\n",
      "1: F\n",
      "2: R\n",
      "3: O\n",
      "0: O\n",
      "1: R\n",
      "2: F\n",
      "3: U\n"
     ]
    }
   ],
   "source": [
    "# La funcionalidad enumerate y reverse\n",
    "\n",
    "for indice, una_letra in enumerate('UFRO'):\n",
    "    print(f'{indice}: {una_letra}')\n",
    "\n",
    "for indice, una_letra in enumerate(reversed('UFRO')):\n",
    "    print(f'{indice}: {una_letra}')"
   ]
  },
  {
   "cell_type": "code",
   "execution_count": null,
   "metadata": {},
   "outputs": [],
   "source": [
    "def transfromar_Numero():\n",
    "    "
   ]
  }
 ],
 "metadata": {
  "kernelspec": {
   "display_name": "Python 3.6.5 ('base')",
   "language": "python",
   "name": "python3"
  },
  "language_info": {
   "codemirror_mode": {
    "name": "ipython",
    "version": 3
   },
   "file_extension": ".py",
   "mimetype": "text/x-python",
   "name": "python",
   "nbconvert_exporter": "python",
   "pygments_lexer": "ipython3",
   "version": "3.10.6"
  },
  "vscode": {
   "interpreter": {
    "hash": "e4cce46d6be9934fbd27f9ca0432556941ea5bdf741d4f4d64c6cd7f8dfa8fba"
   }
  }
 },
 "nbformat": 4,
 "nbformat_minor": 4
}
