{
 "cells": [
  {
   "cell_type": "markdown",
   "metadata": {},
   "source": [
    "# Herramientas básicas para el Análisis de Datos (IMA602)\n",
    "\n",
    "## Ejercicios sobre trabajo con tipos de datos estructurados (diccionarios y conjuntos).\n"
   ]
  },
  {
   "cell_type": "markdown",
   "metadata": {},
   "source": [
    "## Ejercicio 1: \n",
    "\n",
    "Considere que tiene un diccionario que contiene el menu de un restaurant. Escriba un función que solicita a un cliente ingresar una orden y reacciona segun el caso:\n",
    "\n",
    "* Si el cliente ingresa el nombre de un item incluido en el menu, el programa imprime el precio y el total acumulado. Finalmente solicita el ingreso de otra soliciutd de la orden.\n",
    "\n",
    "* Si el cliente ingresa un item no incluido en el menu, el programa le indica amablemente al cliente que no existe y solicita el ingreso de otra solicutd de la orden.\n",
    "\n",
    "* Si el cliente ingresa enter (string vacio) el programa termina imprimiendo el total de la orden. \n",
    "\n",
    "Por ejemplo:\n",
    "\n",
    "Solicitud: Expresso\n",
    "\n",
    "Costo de Expresso: 2.400\n",
    "\n",
    "Solicitud: Sandwich\n",
    "\n",
    "Costo de Sandwich: 10.900, Total de la orden: 13.300\n",
    "\n",
    "Solicitud: Caviar\n",
    "\n",
    "No tenemos Caviar en estos momentos:\n",
    "\n",
    "Solicitud: <enter>\n",
    "\n",
    "Total de la orden: 13.300"
   ]
  },
  {
   "cell_type": "code",
   "execution_count": 10,
   "metadata": {},
   "outputs": [],
   "source": [
    "# Propuesta de Menu\n",
    " \n",
    "MENU={ 'Expresso': 2400, 'Cortado':2800, 'Capuccino': 3600, 'Te':2400, 'Jugo': 3800, 'Limonada': 3500, 'Sandwich':10900, 'Kuchen':4100}"
   ]
  },
  {
   "cell_type": "code",
   "execution_count": 3,
   "metadata": {},
   "outputs": [],
   "source": [
    "# Algunos detalles\n",
    "\n",
    "solicitud1 = input('Solicitud: ')\n",
    "solicitud2 = input('Solicitud: ').strip()\n",
    "\n"
   ]
  },
  {
   "cell_type": "code",
   "execution_count": 14,
   "metadata": {},
   "outputs": [
    {
     "name": "stdout",
     "output_type": "stream",
     "text": [
      "Expreso\n",
      "Moca\n"
     ]
    }
   ],
   "source": [
    "\n",
    "print(solicitud1)\n",
    "print(solicitud2)"
   ]
  },
  {
   "cell_type": "code",
   "execution_count": 1,
   "metadata": {},
   "outputs": [
    {
     "ename": "",
     "evalue": "",
     "output_type": "error",
     "traceback": [
      "\u001b[1;31mThe Kernel crashed while executing code in the current cell or a previous cell. \n",
      "\u001b[1;31mPlease review the code in the cell(s) to identify a possible cause of the failure. \n",
      "\u001b[1;31mClick <a href='https://aka.ms/vscodeJupyterKernelCrash'>here</a> for more info. \n",
      "\u001b[1;31mView Jupyter <a href='command:jupyter.viewOutput'>log</a> for further details."
     ]
    }
   ],
   "source": [
    "# Strip reduce espacios entre palabras!!\n",
    "solicitud3= input('Solicitud: ').strip()\n",
    "solicitud4= input('Solicitud: ').strip()\n"
   ]
  },
  {
   "cell_type": "code",
   "execution_count": 17,
   "metadata": {},
   "outputs": [
    {
     "name": "stdout",
     "output_type": "stream",
     "text": [
      "Solicitud3 vacia\n",
      "Solicitud4 vacia\n"
     ]
    }
   ],
   "source": [
    "\n",
    "if not solicitud3:\n",
    "    print(f'Solicitud3 vacia')\n",
    "else:\n",
    "    print('Solicitud3 no vacia')\n",
    "\n",
    "\n",
    "if not solicitud4:\n",
    "    print(f'Solicitud4 vacia')\n",
    "else:\n",
    "    print('Solicitud4 no vacia')"
   ]
  },
  {
   "cell_type": "code",
   "execution_count": 19,
   "metadata": {},
   "outputs": [
    {
     "name": "stdout",
     "output_type": "stream",
     "text": [
      "Costo de Expresso: $2400, Total de la orden $2400\n",
      "Costo de Cortado: $2800, Total de la orden $5200\n",
      "El total de su orden es: $5200\n"
     ]
    }
   ],
   "source": [
    "def pedido():\n",
    "    total=0\n",
    "    while True:\n",
    "        solicitud = input('Ingrese su pedido: ').strip()\n",
    "        if not solicitud:\n",
    "            break\n",
    "        if solicitud in MENU:\n",
    "            precio=MENU[solicitud]\n",
    "            total+=precio\n",
    "            print(f'Costo de {solicitud}: ${precio}, Total de la orden ${total}')\n",
    "        else:\n",
    "            print(f'No tenemos {solicitud} en estos momentos...')\n",
    "    print(f'El total de su orden es: ${total}')\n",
    "pedido()"
   ]
  },
  {
   "cell_type": "markdown",
   "metadata": {},
   "source": [
    "## Ejercicio 2: \n",
    "\n",
    "Escriba un programa que registre la lluvia acumulada en ciudades. Los usuarios del programa deben escribir el nombre de una ciudad. Si el nombre es vacio (usuario ingresó enter) se imprime un resumen de lluvia por cada ciudad y el programa termina. Si el nombre ingresado no es vacío, el programa debe preguntar por la lluvia caída (en mm).\n",
    "\n",
    "Por ejemplo:\n",
    "\n",
    "Ciudad: Temuco   \n",
    "Lluvia (mm): 15.5\n",
    "\n",
    "Ciudad: Concepción  \n",
    "LLuvia (mm): 1.2\n",
    "\n",
    "Ciudad: Temuco  \n",
    "Lluvia (mm): 1.2\n",
    "\n",
    "Ciudad: enter  \n",
    "\n",
    "Temuco: 16.7  \n",
    "Concepción: 1.2"
   ]
  },
  {
   "cell_type": "code",
   "execution_count": 20,
   "metadata": {},
   "outputs": [
    {
     "name": "stdout",
     "output_type": "stream",
     "text": [
      "2800\n",
      "None\n",
      "0\n",
      "2800\n"
     ]
    }
   ],
   "source": [
    "# LEYENDO MEDIANTE UNA CLAVE DE DICCIONARIO\n",
    "\n",
    "MENU={ 'Expresso': 2400, 'Cortado':2800, 'Capuccino': 3600,'Jugo': 3800, 'Limonada': 3500, 'Sandwich':10900, 'Kuchen':4100}\n",
    "\n",
    "print(MENU.get('Cortado'))\n",
    "print(MENU.get('Te'))\n",
    "print(MENU.get('Te',0))\n",
    "print(MENU.get('Cortado',0))"
   ]
  },
  {
   "cell_type": "code",
   "execution_count": 32,
   "metadata": {},
   "outputs": [
    {
     "name": "stdout",
     "output_type": "stream",
     "text": [
      "Registro de lluvia en Temuco es 22.0 mm\n",
      "Registro de lluvia en Temuco es 34.0 mm\n"
     ]
    }
   ],
   "source": [
    "REGISTRO={'Temuco':0,'Concepción':0}\n",
    "def clima():\n",
    "    while True:\n",
    "        ciudad = input('Ingrese el nombre de la ciudad: ').strip()\n",
    "        if not ciudad:\n",
    "            break\n",
    "        if ciudad in REGISTRO:\n",
    "            lluvia = input('Ingrese datos de lluvia en mm: ')\n",
    "            REGISTRO[ciudad] = REGISTRO[ciudad] + float(lluvia)\n",
    "            print(f'Registro de lluvia en {ciudad} es {REGISTRO[ciudad]} mm')\n",
    "        else:\n",
    "            print('La ciudad no está registrada...')\n",
    "clima()\n",
    "\n"
   ]
  },
  {
   "cell_type": "markdown",
   "metadata": {},
   "source": [
    "## Ejercicio 3: \n",
    "\n",
    "Crear una función diff_diccionario() que describa la diferencia entre dos diccionarios.  El resultado será un diccionario. Si no hay diferencia entre los diccionarios el resultado será un diccionario vacío. Para cada valor de clave donde no coincidan los diccionarios, se entregará esa misma clave con un valor de lista indicando el valor para cada diccionario, y None si no existe la clave. \n",
    "\n",
    "e1={'a':1, 'b':2, 'c':3}  \n",
    "e2={'a':1, 'b':2, 'c':4}\n",
    "\n",
    "diff_diccionario(e1,e1)={}  \n",
    "diff_diccionario(e1,e2)={'c':[3,4]}\n",
    "\n",
    "e3={'a':1, 'b':2, 'd':3}  \n",
    "diff_diccionario(e1,e3)={'c':[3,None], 'd':[None,3]}"
   ]
  },
  {
   "cell_type": "code",
   "execution_count": 36,
   "metadata": {},
   "outputs": [
    {
     "name": "stdout",
     "output_type": "stream",
     "text": [
      "dict_keys(['a', 'b', 'c'])\n",
      "dict_keys(['a', 'b', 'd'])\n",
      "{'c', 'd', 'a', 'b'}\n",
      "{'a', 'b'}\n"
     ]
    }
   ],
   "source": [
    "## Obteniendo las claves como conjunto\n",
    "\n",
    "e1={'a':1, 'b':2, 'c':3}\n",
    "e3={'a':1, 'b':2, 'd':3}\n",
    "\n",
    "type(e1.keys())\n",
    "print(e1.keys())\n",
    "print(e3.keys())\n",
    "\n",
    "print(e1.keys() | e3.keys())\n",
    "print(e1.keys() & e3.keys())\n"
   ]
  },
  {
   "cell_type": "code",
   "execution_count": 37,
   "metadata": {},
   "outputs": [
    {
     "data": {
      "text/plain": [
       "{'c': [3, None], 'd': [None, 3]}"
      ]
     },
     "execution_count": 37,
     "metadata": {},
     "output_type": "execute_result"
    }
   ],
   "source": [
    "def diff_diccionario(a,b):\n",
    "    salida ={}\n",
    "    claves_dict = a.keys() | b.keys()\n",
    "\n",
    "    for clave in claves_dict:\n",
    "        if a.get(clave) != b.get(clave):\n",
    "            salida[clave]=[a.get(clave),b.get(clave)]\n",
    "    return salida\n",
    "diff_diccionario(e1,e3)\n"
   ]
  },
  {
   "cell_type": "markdown",
   "metadata": {},
   "source": [
    "## Ejercicio 4: \n",
    "\n",
    "Escriba una función cant_nros_dif() que reciba una lista de números enteros y entrega la cantidad de números diferentes contenidos en la lista.\n",
    "\n",
    "Por ejemplo: cant_nros_dif([1,2,3,1,2,3,4,1,2,5])=5"
   ]
  },
  {
   "cell_type": "code",
   "execution_count": 38,
   "metadata": {},
   "outputs": [
    {
     "name": "stdout",
     "output_type": "stream",
     "text": [
      "numeros_unicos1 = {1, 2, 3, 4, 6}\n"
     ]
    }
   ],
   "source": [
    "# RELLENANDO CONJUNTOS\n",
    "\n",
    "numeros=[1,2,4,6,2,3,2,4,6]\n",
    "\n",
    "# Via función set()\n",
    "numeros_unicos1=set(numeros)\n",
    "print(f'numeros_unicos1 = {numeros_unicos1}')\n"
   ]
  },
  {
   "cell_type": "code",
   "execution_count": 39,
   "metadata": {},
   "outputs": [
    {
     "name": "stdout",
     "output_type": "stream",
     "text": [
      "numeros_unicos2 = {1, 2, 3, 4, 6}\n"
     ]
    }
   ],
   "source": [
    "\n",
    "# Recorriendo componentes y usando add\n",
    "numeros_unicos2=set()\n",
    "for numero in numeros:\n",
    "    numeros_unicos2.add(numero)\n",
    "print(f'numeros_unicos2 = {numeros_unicos2}')\n"
   ]
  },
  {
   "cell_type": "code",
   "execution_count": 40,
   "metadata": {},
   "outputs": [
    {
     "name": "stdout",
     "output_type": "stream",
     "text": [
      "numeros_unicos3 = {1, 2, 3, 4, 6}\n"
     ]
    }
   ],
   "source": [
    "\n",
    "# Utilizando update, que recibe un numerable\n",
    "numeros_unicos3=set()\n",
    "numeros_unicos3.update(numeros)\n",
    "print(f'numeros_unicos3 = {numeros_unicos3}')\n"
   ]
  },
  {
   "cell_type": "code",
   "execution_count": 17,
   "metadata": {},
   "outputs": [
    {
     "name": "stdout",
     "output_type": "stream",
     "text": [
      "numeros_unicos4 = {1, 2, 3, 4, 6}\n"
     ]
    }
   ],
   "source": [
    "# COMO NO FUNCIONA!!\n",
    "\n",
    "#numeros_unicos4={numeros}\n",
    "\n",
    "# Pero sin con splat\n",
    "\n",
    "numeros_unicos4={*numeros}\n",
    "print(f'numeros_unicos4 = {numeros_unicos4}')\n",
    "\n",
    "#OBS: Un conjunto solo puede tener elementos no mutables (las listas no lo son).\n"
   ]
  },
  {
   "cell_type": "code",
   "execution_count": 42,
   "metadata": {},
   "outputs": [
    {
     "name": "stdout",
     "output_type": "stream",
     "text": [
      "numeros_unicos2 = {1, 2, 3, 4, 6} = 10\n"
     ]
    }
   ],
   "source": [
    "numeros_unicos2=set()\n",
    "def cant_nro_dif():\n",
    "    contador = 1\n",
    "    for numero in numeros:\n",
    "        contador += 1\n",
    "        numeros_unicos2.add(numero)\n",
    "    print(f'numeros_unicos2 = {numeros_unicos2} = {contador}')\n",
    "cant_nro_dif()"
   ]
  }
 ],
 "metadata": {
  "kernelspec": {
   "display_name": "Python 3.6.5 ('base')",
   "language": "python",
   "name": "python3"
  },
  "language_info": {
   "codemirror_mode": {
    "name": "ipython",
    "version": 3
   },
   "file_extension": ".py",
   "mimetype": "text/x-python",
   "name": "python",
   "nbconvert_exporter": "python",
   "pygments_lexer": "ipython3",
   "version": "3.11.7"
  },
  "vscode": {
   "interpreter": {
    "hash": "e4cce46d6be9934fbd27f9ca0432556941ea5bdf741d4f4d64c6cd7f8dfa8fba"
   }
  }
 },
 "nbformat": 4,
 "nbformat_minor": 4
}
