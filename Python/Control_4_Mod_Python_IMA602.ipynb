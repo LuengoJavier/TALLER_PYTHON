{
 "cells": [
  {
   "cell_type": "markdown",
   "metadata": {},
   "source": [
    "# Herramientas básicas para el Análisis de Datos (IMA602)\n",
    "\n",
    "## Segundo Semestre 2024\n",
    "\n",
    "## Control 4 - Módulo de Python\n"
   ]
  },
  {
   "cell_type": "markdown",
   "metadata": {},
   "source": [
    "Para este control, a cada estudiante se le asignarán aleatoriamente dos ejercicios\n",
    "de la siguiente lista de cuatro ejercicios. El estudiante debe insertar los códigos \n",
    "que resuelven sus ejercicios asignados en dos celdas separadas de este notebook. \n",
    "\n",
    "Los ejercicios se asignan aleatoriamente utilizando una semilla propia de cada \n",
    "estudiante. Para esto, a continuación se presenta un código que debe ser ejecutado.\n",
    "El código utiliza su semilla propia y entrega los ejercicios debe resolver en el control."
   ]
  },
  {
   "cell_type": "code",
   "execution_count": 1,
   "metadata": {},
   "outputs": [
    {
     "name": "stdout",
     "output_type": "stream",
     "text": [
      "Mis ejercicios asignados en este Control son: \t [1, 2]\n"
     ]
    }
   ],
   "source": [
    "import random\n",
    "\n",
    "##\n",
    "## Su semilla propia ha sido asignada en la plataforma.\n",
    "##\n",
    "\n",
    "mi_semilla_asignada = 43\n",
    "random.seed(mi_semilla_asignada)\n",
    "ejercicios = list(range(1,5))\n",
    "asignados = list(random.sample(ejercicios,k=2))\n",
    "asignados.sort()\n",
    "print(\"Mis ejercicios asignados en este Control son: \\t\",asignados)"
   ]
  },
  {
   "cell_type": "markdown",
   "metadata": {},
   "source": [
    "# LISTA DE EJERCICIOS \n",
    "\n",
    "1. Escriba una función que recibe el nombre de un archivo como argumento y recorre las lineas del mismo. La función identifica todas las palabras que contienen solo enteros, suma todos los números y entrega el resultado.\n",
    "\n",
    "2. Dado un directorio que contiene varios archivos texto cree una función que contabilice el uso de las letras en los archivos. La función deben contar la frecuencia de las letras en cada archivo (fuerce las letras a minúsculas e ignore los caracteres que no son letras). Use un diccionario para llevar la cuenta de la frecuencia de las letras. Al final la función debe imprimir las cinco letras mas utilizadas por todos los archivos en su conjunto y su frecuencia total. \n",
    "3. Genera un archivo csv que contiene en cada linea 10 enteros aleatorios entre 10 y 100. Ahora lee el archivo de vuelta e imprime la suma y el promedio de cada linea.\n",
    "\n",
    "4. Crear una función que recibe el nombre de un archivo de texto y genera otros dos archivos de texto. Cada uno de los dos nuevos archivos tendrá la misma cantidad de lineas que el archivo inicial. En uno de los archivos se escribirán todas vocales por cada linea y en el otro todas las consonantes (ignorando la puntuación y los espacios en blanco)."
   ]
  },
  {
   "cell_type": "code",
   "execution_count": 34,
   "metadata": {},
   "outputs": [
    {
     "data": {
      "text/plain": [
       "32"
      ]
     },
     "execution_count": 34,
     "metadata": {},
     "output_type": "execute_result"
    }
   ],
   "source": [
    "# Solución primer ejercicio asignado\n",
    "def suma_enteros(direccion):\n",
    "    suma = 0\n",
    "    #Se abre el archivo\n",
    "    with open(direccion, 'r') as archivo:\n",
    "            #Se recorren las líneas del archivo\n",
    "            for linea in archivo:\n",
    "                palabras = linea.split()\n",
    "                #Se recorren las palabras de las líneas\n",
    "                for palabra in palabras:\n",
    "                    #Se recorren caracter por carater la palabra\n",
    "                    for caracter in palabra:\n",
    "                        #Si es digito se suma\n",
    "                        if caracter.isdigit():\n",
    "                            suma += int(caracter)\n",
    "    return suma\n",
    "suma_enteros('Control_04/Control_04.txt')"
   ]
  },
  {
   "cell_type": "code",
   "execution_count": 33,
   "metadata": {},
   "outputs": [
    {
     "name": "stdout",
     "output_type": "stream",
     "text": [
      "La letra 'e' se utiliza 115 veces.\n",
      "La letra 'a' se utiliza 113 veces.\n",
      "La letra 'o' se utiliza 84 veces.\n",
      "La letra 's' se utiliza 69 veces.\n",
      "La letra 'l' se utiliza 66 veces.\n"
     ]
    }
   ],
   "source": [
    "# Solución segundo ejercicio asignado\n",
    "import glob\n",
    "from collections import Counter\n",
    "\n",
    "def frecuencia_letras(directorio):\n",
    "    frecuencia_letra_ = Counter()\n",
    "    #Se abre el directorio y sus archivos 1 a 1\n",
    "    for nombre_archivo in glob.glob(f'{directorio}/*.txt'):\n",
    "        #Se abren los archivos\n",
    "        with open(nombre_archivo) as archivo:\n",
    "            #se recorre linea por linea del archivo\n",
    "            for linea in archivo:\n",
    "                palabras = linea.split()\n",
    "                #se recorre palabra por palabra cada linea\n",
    "                for palabra in palabras:\n",
    "                    #se cuenta la fecuencia de las letras\n",
    "                    frecuencia_letra_.update(palabra.lower())\n",
    "            #Se almacenan las 5 más comunes        \n",
    "            mas_comun = frecuencia_letra_.most_common(5)\n",
    "    #Recorre las más comunes e imprime el mensaje\n",
    "    for letra, frecuencia in mas_comun:\n",
    "        print(f\"La letra '{letra}' se utiliza {frecuencia} veces.\")\n",
    "\n",
    "frecuencia_letras('Control_04')\n",
    "\n",
    "                    \n",
    "                "
   ]
  }
 ],
 "metadata": {
  "kernelspec": {
   "display_name": "Python 3",
   "language": "python",
   "name": "python3"
  },
  "language_info": {
   "codemirror_mode": {
    "name": "ipython",
    "version": 3
   },
   "file_extension": ".py",
   "mimetype": "text/x-python",
   "name": "python",
   "nbconvert_exporter": "python",
   "pygments_lexer": "ipython3",
   "version": "3.11.7"
  }
 },
 "nbformat": 4,
 "nbformat_minor": 4
}
