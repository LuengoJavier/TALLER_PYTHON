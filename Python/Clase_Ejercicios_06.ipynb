{
 "cells": [
  {
   "cell_type": "markdown",
   "metadata": {},
   "source": [
    "# Herramientas básicas para el Análisis de Datos (IMA602)\n",
    "\n",
    "## Ejercicios sobre trabajo con archivos.\n"
   ]
  },
  {
   "cell_type": "markdown",
   "metadata": {},
   "source": [
    "## Ejercicio 1: \n",
    "\n",
    "Cree una función que extrae la última línea de un archivo. La función recibe el nombre del archivo como argumento y entrega la última linea en pantalla.\n",
    "\n"
   ]
  },
  {
   "cell_type": "code",
   "execution_count": null,
   "metadata": {},
   "outputs": [],
   "source": [
    "# LEER UN ARCHIVO\n",
    "\n",
    "nombre_archivo = './Datos_Clase_Ejercicios_04/archivo_texto.txt'\n",
    "lineas=[]\n",
    "with open(nombre_archivo) as archivo:\n",
    "        for linea in archivo:\n",
    "            lineas.append(linea)\n",
    "\n",
    "lineas"
   ]
  },
  {
   "cell_type": "code",
   "execution_count": null,
   "metadata": {},
   "outputs": [],
   "source": [
    "for linea in lineas:\n",
    "    #print(linea)\n",
    "    print(linea.replace('\\n',''))"
   ]
  },
  {
   "cell_type": "code",
   "execution_count": null,
   "metadata": {},
   "outputs": [],
   "source": [
    "# ESCRIBIR UN ARCHIVO\n",
    "\n",
    "with open('./Datos_Clase_Ejercicios_04/archivo_texto_de_vuelta.txt', 'w') as archivo_salida:\n",
    "    for linea in lineas:\n",
    "        archivo_salida.write(linea.replace('\\n',''))\n",
    "        #archivo_salida.write(linea)\n",
    "        #archivo_salida.write(linea+'\\n')"
   ]
  },
  {
   "cell_type": "code",
   "execution_count": null,
   "metadata": {},
   "outputs": [],
   "source": [
    "# Solución\n",
    " \n"
   ]
  },
  {
   "cell_type": "markdown",
   "metadata": {},
   "source": [
    "## Ejercicio 2: \n",
    "\n",
    "Crear una función que reciba un archivo de password de tipo unix (/etc/passwd) y entregue un diccionario cuyas claves sean los nombres de usuario y los valores los ID de los usuarios. La función debe crear el diccionario utilizando compresión. (Obs: En los archivos /etc/passwd los nombres de usuarios ocupan el primer campo, con índice 0 y el ID el tercer campo, con índice 2)."
   ]
  },
  {
   "cell_type": "code",
   "execution_count": 16,
   "metadata": {},
   "outputs": [
    {
     "name": "stdout",
     "output_type": "stream",
     "text": [
      "ESTA SI ME INTERESA\n"
     ]
    }
   ],
   "source": [
    "#Controlando el comienzo de una linea\n",
    "\n",
    "lineas_de_prueba=['& ESTA NO ME INTERESA','ESTA SI ME INTERESA', '! ESTA NO ME INTERESA']\n",
    "for linea in lineas_de_prueba:\n",
    "    if not linea.startswith(('&', '!')):\n",
    "        print(linea)"
   ]
  },
  {
   "cell_type": "code",
   "execution_count": 18,
   "metadata": {},
   "outputs": [
    {
     "name": "stdout",
     "output_type": "stream",
     "text": [
      "{'nobody': -2, 'root': 0, 'daemon': 1, '_uucp': 4, '_taskgated': 13, '_networkd': 24, '_installassistant': 25, '_lp': 26, '_postfix': 27, '_scsd': 31, '_ces': 32, '_mcxalr': 54, '_appleevents': 55, '_geod': 56, '_serialnumberd': 58, '_devdocs': 59, '_sandbox': 60, '_mdnsresponder': 65, '_ard': 67, '_www': 70, '_eppc': 71, '_cvs': 72, '_svn': 73, '_mysql': 74, '_sshd': 75, '_qtss': 76, '_cyrus': 77, '_mailman': 78, '_appserver': 79, '_clamav': 82, '_amavisd': 83, '_jabber': 84, '_appowner': 87, '_windowserver': 88, '_spotlight': 89, '_tokend': 91, '_securityagent': 92, '_calendar': 93, '_teamsserver': 94, '_update_sharing': 95, '_installer': 96, '_atsserver': 97, '_ftp': 98, '_unknown': 99, '_softwareupdate': 200, '_coreaudiod': 202, '_screensaver': 203, '_locationd': 205, '_trustevaluationagent': 208, '_timezone': 210, '_lda': 211, '_cvmsroot': 212, '_usbmuxd': 213, '_dovecot': 214, '_dpaudio': 215, '_postgres': 216, '_krbtgt': 217, '_kadmin_admin': 218, '_kadmin_changepw': 219, '_devicemgr': 220, '_webauthserver': 221, '_netbios': 222, '_warmd': 224, '_dovenull': 227, '_netstatistics': 228, '_avbdeviced': 229, '_krb_krbtgt': 230, '_krb_kadmin': 231, '_krb_changepw': 232, '_krb_kerberos': 233, '_krb_anonymous': 234, '_assetcache': 235, '_coremediaiod': 236, '_xcsbuildagent': 237, '_xcscredserver': 238, '_launchservicesd': 239}\n",
      "{'nobody': -2, 'root': 0, 'daemon': 1, '_uucp': 4, '_taskgated': 13, '_networkd': 24, '_installassistant': 25, '_lp': 26, '_postfix': 27, '_scsd': 31, '_ces': 32, '_mcxalr': 54, '_appleevents': 55, '_geod': 56, '_serialnumberd': 58, '_devdocs': 59, '_sandbox': 60, '_mdnsresponder': 65, '_ard': 67, '_www': 70, '_eppc': 71, '_cvs': 72, '_svn': 73, '_mysql': 74, '_sshd': 75, '_qtss': 76, '_cyrus': 77, '_mailman': 78, '_appserver': 79, '_clamav': 82, '_amavisd': 83, '_jabber': 84, '_appowner': 87, '_windowserver': 88, '_spotlight': 89, '_tokend': 91, '_securityagent': 92, '_calendar': 93, '_teamsserver': 94, '_update_sharing': 95, '_installer': 96, '_atsserver': 97, '_ftp': 98, '_unknown': 99, '_softwareupdate': 200, '_coreaudiod': 202, '_screensaver': 203, '_locationd': 205, '_trustevaluationagent': 208, '_timezone': 210, '_lda': 211, '_cvmsroot': 212, '_usbmuxd': 213, '_dovecot': 214, '_dpaudio': 215, '_postgres': 216, '_krbtgt': 217, '_kadmin_admin': 218, '_kadmin_changepw': 219, '_devicemgr': 220, '_webauthserver': 221, '_netbios': 222, '_warmd': 224, '_dovenull': 227, '_netstatistics': 228, '_avbdeviced': 229, '_krb_krbtgt': 230, '_krb_kadmin': 231, '_krb_changepw': 232, '_krb_kerberos': 233, '_krb_anonymous': 234, '_assetcache': 235, '_coremediaiod': 236, '_xcsbuildagent': 237, '_xcscredserver': 238, '_launchservicesd': 239}\n",
      "True\n"
     ]
    }
   ],
   "source": [
    "# Solución\n",
    "def passwd_2_dict(nombre_archivo):\n",
    "    usuarios={}\n",
    "    with open(nombre_archivo) as passwd:\n",
    "        for linea in passwd:\n",
    "            if not linea.startswith(('#', '\\n')):\n",
    "                inf_usuario = linea.split(':')\n",
    "                usuarios[inf_usuario[0]] = int(inf_usuario[2])\n",
    "    return usuarios\n",
    "\n",
    "def passwd_2_dict_full_compresion(nombre_archivo):\n",
    "    with open(nombre_archivo) as passwd:\n",
    "        return {linea.split(':')[0] : int(linea.split(':')[2]) for linea in passwd if not linea.startswith(('#', '\\n'))}\n",
    "\n",
    "\n",
    "dict_resultado=passwd_2_dict('Datos_Clase_Ejercicios_04/passwd_file.txt')\n",
    "dict_resultado_compresion=passwd_2_dict_full_compresion('Datos_Clase_Ejercicios_04/passwd_file.txt')\n",
    "print(dict_resultado)\n",
    "print(dict_resultado_compresion)\n",
    "print(dict_resultado_compresion==dict_resultado)\n"
   ]
  },
  {
   "cell_type": "markdown",
   "metadata": {},
   "source": [
    "## Ejercicio 3: \n",
    "\n",
    "Cree una función resumen_de_archivo_texto() que recibe el nombre de un archivo de texto e imprime cuatro lineas, conteniendo la siguiente información:\n",
    "- Cantidad de caracteres (incluyendo espacios en blanco)\n",
    "- Cantidad de palabras (separadas por espacios en blanco)\n",
    "- Cantidad de lineas \n",
    "- Cantidad de palabras distintas (diferenciando mayúsculas, o sea 'No' es diferente de 'no')"
   ]
  },
  {
   "cell_type": "code",
   "execution_count": 20,
   "metadata": {},
   "outputs": [
    {
     "name": "stdout",
     "output_type": "stream",
     "text": [
      "caracteres: 176\n",
      "palabras: 29\n",
      "lineas: 11\n",
      "nro_palabras_dif: 26\n"
     ]
    }
   ],
   "source": [
    "# Solución\n",
    "def resumen_de_archivo_texto(archivo):\n",
    "    contador={'caracteres':0, 'palabras':0, 'lineas':0}\n",
    "    palabras_diferentes = set()\n",
    "    for linea in open(archivo):\n",
    "        contador['caracteres'] += len(linea)\n",
    "        contador['palabras'] += len(linea.split())\n",
    "        contador['lineas'] += 1\n",
    "        palabras_diferentes.update(linea.split())\n",
    "    contador['nro_palabras_dif']=len(palabras_diferentes)\n",
    "    for key, value in contador.items():\n",
    "        print(f'{key}: {value}')\n",
    "\n",
    "resumen_de_archivo_texto('Datos_Clase_Ejercicios_04\\Texto_de_prueba2.txt')"
   ]
  },
  {
   "cell_type": "markdown",
   "metadata": {},
   "source": [
    "## Ejercicio 4: \n",
    "\n",
    "Escriba dos funciones. La primera función *find_longest_word()* debe recibir como argumento el nombre de un archivo y retornar la palabra más larga del archivo. La segunda función *find_all_longest_words()* debe recibir el nombre de un directorio y retornar un dicionario, que tiene como claves los nombres de los archivos y como valores la palabras más larga del archivo."
   ]
  },
  {
   "cell_type": "code",
   "execution_count": 2,
   "metadata": {},
   "outputs": [
    {
     "name": "stdout",
     "output_type": "stream",
     "text": [
      "Datos_Clase_Ejercicios_04\\Comentarios\\Comentario_1.txt\n",
      "Datos_Clase_Ejercicios_04\\Comentarios\\Comentario_2.txt\n",
      "Datos_Clase_Ejercicios_04\\Comentarios\\Comentario_3.txt\n",
      "Datos_Clase_Ejercicios_04\\Comentarios\\Comentario_4.txt\n",
      "Datos_Clase_Ejercicios_04\\Comentarios\\Comentario_5.txt\n",
      "Datos_Clase_Ejercicios_04\\Comentarios\\Comentario_6.txt\n"
     ]
    }
   ],
   "source": [
    "import os\n",
    "\n",
    "for file in os.listdir('Datos_Clase_Ejercicios_04\\Comentarios'):\n",
    "    str1= os.path.join('Datos_Clase_Ejercicios_04\\Comentarios', file)\n",
    "    str2= ' es un archivo.' if os.path.isfile(os.path.join('Datos_Clase_15\\Comentarios', file)) else ''\n",
    "    print(str1+str2)"
   ]
  },
  {
   "cell_type": "code",
   "execution_count": 10,
   "metadata": {},
   "outputs": [
    {
     "name": "stdout",
     "output_type": "stream",
     "text": [
      "restringido.\n",
      "{'Comentario_1.txt': 'restringido.', 'Comentario_2.txt': 'restaurante', 'Comentario_3.txt': 'expectativas.', 'Comentario_4.txt': 'recomendable.', 'Comentario_5.txt': 'estacionamiento', 'Comentario_6.txt': 'acompañamientos'}\n"
     ]
    }
   ],
   "source": [
    "# Solución\n",
    "import os\n",
    "\n",
    "def find_longest_word(nombre_archivo): \n",
    "    try:\n",
    "        with open(nombre_archivo, 'r', encoding='utf-8') as file:\n",
    "            words = file.read().split()\n",
    "            longest_word = max(words, key=len)\n",
    "            return longest_word\n",
    "    except FileNotFoundError:\n",
    "        return \"El archivo no existe.\"\n",
    "\n",
    "def find_all_longest_words(directory):\n",
    "    result = {}\n",
    "    for filename in os.listdir(directory):\n",
    "        if os.path.isfile(os.path.join(directory, filename)):\n",
    "            longest_word = find_longest_word(os.path.join(directory, filename))\n",
    "            result[filename] = longest_word\n",
    "    return result\n",
    "\n",
    "archivo = 'Datos_Clase_Ejercicios_04\\Comentarios\\Comentario_1.txt'\n",
    "directorio = 'Datos_Clase_Ejercicios_04\\Comentarios'\n",
    "print(find_longest_word(archivo))\n",
    "print(find_all_longest_words(directorio))\n",
    "\n"
   ]
  },
  {
   "cell_type": "markdown",
   "metadata": {},
   "source": [
    "## Ejercicio 5: \n",
    "\n",
    "Crear una función *passwd_2_csv()* que recibe dos nombres de archivos como argumentos. El primer archivo es de estilo passwords (para leer) y el segundo es el archivo para escribir la salida. El archivo de salida debe contener en cada linea el nombre del usuario (índice 0) y el ID (índice 2) separados por tab."
   ]
  },
  {
   "cell_type": "code",
   "execution_count": 24,
   "metadata": {},
   "outputs": [],
   "source": [
    "# Escribir en un csv\n",
    "\n",
    "import csv \n",
    "\n",
    "with open('archivo.csv','w') as f:\n",
    "    o=csv.writer(f)\n",
    "    o.writerow(range(5))\n",
    "    o.writerow(['a','b','c','d','e'])\n",
    "    "
   ]
  },
  {
   "cell_type": "code",
   "execution_count": 26,
   "metadata": {},
   "outputs": [],
   "source": [
    "#Solución\n",
    "def passwd_2_csv(file_in, file_out):\n",
    "    with open(file_in, 'r') as f_in, open(file_out, 'w') as f_out:\n",
    "        for line in f_in:\n",
    "            if not line.startswith('#'):\n",
    "                parts = line.split(':')\n",
    "                f_out.write(f'{parts[0]}\\t{parts[2]}\\n')\n",
    "passwd_2_csv(\"Datos_Clase_Ejercicios_04/passwd_file.txt\",\"prueba.txt\")"
   ]
  },
  {
   "cell_type": "markdown",
   "metadata": {},
   "source": [
    "## Ejercicio 6: \n",
    "\n",
    "En un directorio llamado 'Datos_notas' se encuentran las notas de varios cursos en algunas materias. Para cada curso hay un archivo en formato json con las notas. Cree una función *imprime_resumen_notas()* que recibe el nombre del directorio e imprime un resumen de las notas de todos los cursos. Para cada curso se debe imprimir una primera linea con el nombre del archivo del curso, después para cada materia se debe imprimir una linea aparte que contenga los siguientes datos separados por tab: nota minima, nota máxima y promedio. (Hint: Utilizas las librerias glob y json)\n",
    "\n",
    "    Por ejemplo: \n",
    "\n",
    "        Datos_notas/8C.json\n",
    "            Matemática  min: 560    max: 973    prom: 780.5\n",
    "            Ciencias    min: 400    max: 753    prom: 543.8\n",
    "        Datos_notas/8E.json\n",
    "            Matemática  min: 610    max: 883    prom: 804.2\n",
    "            Ciencias    min: 502    max: 940    prom: 672.6"
   ]
  },
  {
   "cell_type": "code",
   "execution_count": 4,
   "metadata": {},
   "outputs": [
    {
     "name": "stdout",
     "output_type": "stream",
     "text": [
      "{'campo1': 80, 'campo2': 52, 'campo3': 84}\n",
      "campo1: 80\n",
      "campo2: 52\n",
      "campo3: 84\n",
      "{'campo1': 71, 'campo2': 70, 'campo3': 33}\n",
      "campo1: 71\n",
      "campo2: 70\n",
      "campo3: 33\n",
      "{'campo1': 88, 'campo2': 64, 'campo3': 35}\n",
      "campo1: 88\n",
      "campo2: 64\n",
      "campo3: 35\n",
      "{'campo1': 39, 'campo2': 64, 'campo3': 56}\n",
      "campo1: 39\n",
      "campo2: 64\n",
      "campo3: 56\n",
      "{'campo1': 39, 'campo2': 68, 'campo3': 71}\n",
      "campo1: 39\n",
      "campo2: 68\n",
      "campo3: 71\n",
      "{'campo1': 77, 'campo2': 89, 'campo3': 96}\n",
      "campo1: 77\n",
      "campo2: 89\n",
      "campo3: 96\n",
      "{'campo1': 64, 'campo2': 69, 'campo3': 29}\n",
      "campo1: 64\n",
      "campo2: 69\n",
      "campo3: 29\n",
      "{'campo1': 100, 'campo2': 81, 'campo3': 66}\n",
      "campo1: 100\n",
      "campo2: 81\n",
      "campo3: 66\n",
      "{'campo1': 25, 'campo2': 97, 'campo3': 54}\n",
      "campo1: 25\n",
      "campo2: 97\n",
      "campo3: 54\n",
      "{'campo1': 18, 'campo2': 56, 'campo3': 6}\n",
      "campo1: 18\n",
      "campo2: 56\n",
      "campo3: 6\n"
     ]
    }
   ],
   "source": [
    "# leer un archivo en formato json\n",
    "\n",
    "import json\n",
    "\n",
    "with open('Datos_Clase_Ejercicios_04/archivo_json_de_prueba.json') as archivo_json:\n",
    "            for linea in json.load(archivo_json):\n",
    "                print(linea)\n",
    "                for campo, valor in linea.items():\n",
    "                    print(f'{campo}: {valor}')\n"
   ]
  },
  {
   "cell_type": "code",
   "execution_count": 13,
   "metadata": {},
   "outputs": [
    {
     "name": "stdout",
     "output_type": "stream",
     "text": [
      "Datos_Clase_Ejercicios_04\\Datos_notas\\4A.json\n",
      "\tMatematica\tmin:135\t max:996\tprom:545.5\n",
      "\tLenguaje\tmin:114\t max:935\tprom:476.4\n",
      "\tCiencias\tmin:106\t max:939\tprom:465.2\n",
      "Datos_Clase_Ejercicios_04\\Datos_notas\\4B.json\n",
      "\tMatematica\tmin:110\t max:980\tprom:526.9\n",
      "\tLenguaje\tmin:109\t max:967\tprom:578.2\n",
      "\tCiencias\tmin:102\t max:992\tprom:697.7\n",
      "Datos_Clase_Ejercicios_04\\Datos_notas\\4C.json\n",
      "\tMatematica\tmin:149\t max:1000\tprom:569.7\n",
      "\tLenguaje\tmin:115\t max:974\tprom:509.4\n",
      "\tCiencias\tmin:138\t max:988\tprom:614.7\n",
      "Datos_Clase_Ejercicios_04\\Datos_notas\\4D.json\n",
      "\tMatematica\tmin:105\t max:986\tprom:548.5\n",
      "\tLenguaje\tmin:102\t max:992\tprom:498.8\n",
      "\tCiencias\tmin:137\t max:988\tprom:559.3\n"
     ]
    }
   ],
   "source": [
    "#Solución\n",
    "import os\n",
    "import glob\n",
    "import json\n",
    "\n",
    "def imprime_resumen_notas(nombre_directorio):\n",
    "    resumen_notas={}\n",
    "    for nombre_archivo in glob.glob(f'{nombre_directorio}/*.json'):\n",
    "        resumen_notas[nombre_archivo] = {}\n",
    "        with open(nombre_archivo) as archivo_in:\n",
    "            for resultados in json.load(archivo_in):\n",
    "                for materia, nota in resultados.items():\n",
    "                    resumen_notas[nombre_archivo].setdefault(materia,[])\n",
    "                    resumen_notas[nombre_archivo][materia].append(nota)\n",
    "\n",
    "    for una_clase in resumen_notas:\n",
    "        print(una_clase)\n",
    "        for materia, notas_materia in resumen_notas[una_clase].items():\n",
    "            min_nota=min(notas_materia)\n",
    "            max_nota=max(notas_materia)\n",
    "            prom_nota=round((sum(notas_materia))/len(notas_materia),1)\n",
    "            print(f'\\t{materia}\\tmin:{min_nota}\\t max:{max_nota}\\tprom:{prom_nota}')\n",
    "directorio = 'Datos_Clase_Ejercicios_04\\Datos_notas'\n",
    "imprime_resumen_notas(directorio)\n"
   ]
  },
  {
   "cell_type": "markdown",
   "metadata": {},
   "source": [
    "## Ejercicio 7: \n",
    "\n",
    "Escriba una función que reciba el nombre de un archivo de entrada y de un archivo de salida. La función debe escribir en el archivo de salida cada linea del archivo de entrada invirtiendo el orden de las palabras y de las letras de cada palabra. Por ejemplo:\n",
    "\n",
    "Archivo de entrada:\n",
    "\n",
    "Me gusta el cine  \n",
    "Pero odio la tele\n",
    "\n",
    "Archivo de salida\n",
    "\n",
    "enic le atsug eM   \n",
    "elet al oido oreP\n",
    "\n"
   ]
  },
  {
   "cell_type": "code",
   "execution_count": 4,
   "metadata": {},
   "outputs": [
    {
     "name": "stdout",
     "output_type": "stream",
     "text": [
      "primera linea de archivo de prueba\n",
      "segunda linea de archivo de prueba\n",
      "tercera linea de archivo de prueba\n",
      "cuarta linea de archivo de prueba\n",
      "quinta y última linea de archivo de prueba\n"
     ]
    },
    {
     "data": {
      "text/plain": [
       "['primera linea de archivo de prueba',\n",
       " 'segunda linea de archivo de prueba',\n",
       " 'tercera linea de archivo de prueba',\n",
       " 'cuarta linea de archivo de prueba',\n",
       " 'quinta y última linea de archivo de prueba']"
      ]
     },
     "execution_count": 4,
     "metadata": {},
     "output_type": "execute_result"
    },
    {
     "ename": "",
     "evalue": "",
     "output_type": "error",
     "traceback": [
      "\u001b[1;31mThe Kernel crashed while executing code in the current cell or a previous cell. \n",
      "\u001b[1;31mPlease review the code in the cell(s) to identify a possible cause of the failure. \n",
      "\u001b[1;31mClick <a href='https://aka.ms/vscodeJupyterKernelCrash'>here</a> for more info. \n",
      "\u001b[1;31mView Jupyter <a href='command:jupyter.viewOutput'>log</a> for further details."
     ]
    }
   ],
   "source": [
    "lineas=[]\n",
    "with open('Datos_Clase_Ejercicios_04/archivo_de_prueba.txt') as archivo_in:\n",
    "    for linea in archivo_in:\n",
    "        print(linea.rstrip())\n",
    "        #print(linea)\n",
    "        lineas.append(linea.rstrip())\n",
    "\n",
    "lineas\n"
   ]
  },
  {
   "cell_type": "code",
   "execution_count": null,
   "metadata": {},
   "outputs": [],
   "source": [
    "with open('archivo_de_prueba_nuevo.txt', 'w') as archivo_out:\n",
    "    for linea in lineas:\n",
    "        archivo_out.write(linea)\n",
    "        #archivo_out.write(linea+'\\n')\n"
   ]
  },
  {
   "cell_type": "code",
   "execution_count": 35,
   "metadata": {},
   "outputs": [],
   "source": [
    "#Solución\n",
    "def salida(file_in, file_out):\n",
    "    with open(file_in, 'r') as f_in, open(file_out, 'w') as f_out:\n",
    "        for linea in f_in:\n",
    "            f_out.write(linea.rstrip()[::1]+'\\n')\n",
    "salida('archivo_de_prueba_nuevo.txt','salida.txt')"
   ]
  }
 ],
 "metadata": {
  "kernelspec": {
   "display_name": "Python 3.6.5 ('base')",
   "language": "python",
   "name": "python3"
  },
  "language_info": {
   "codemirror_mode": {
    "name": "ipython",
    "version": 3
   },
   "file_extension": ".py",
   "mimetype": "text/x-python",
   "name": "python",
   "nbconvert_exporter": "python",
   "pygments_lexer": "ipython3",
   "version": "3.11.7"
  },
  "vscode": {
   "interpreter": {
    "hash": "e4cce46d6be9934fbd27f9ca0432556941ea5bdf741d4f4d64c6cd7f8dfa8fba"
   }
  }
 },
 "nbformat": 4,
 "nbformat_minor": 4
}
